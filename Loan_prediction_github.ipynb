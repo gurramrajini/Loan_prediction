{
 "cells": [
  {
   "cell_type": "markdown",
   "metadata": {},
   "source": [
    "## Business objective : Prediction of Loan Status"
   ]
  },
  {
   "cell_type": "code",
   "execution_count": 1,
   "metadata": {},
   "outputs": [],
   "source": [
    "## Importing required libraries\n",
    "\n",
    "import numpy as np\n",
    "import pandas as pd\n",
    "import matplotlib.pyplot as plt\n",
    "import seaborn as sns\n",
    "%matplotlib inline\n",
    "from sklearn.preprocessing import StandardScaler\n",
    "from sklearn.model_selection import train_test_split, KFold, cross_val_score, GridSearchCV\n",
    "from sklearn.metrics import classification_report, confusion_matrix, accuracy_score, roc_auc_score, f1_score\n"
   ]
  },
  {
   "cell_type": "code",
   "execution_count": 2,
   "metadata": {},
   "outputs": [],
   "source": [
    "# Import ML model Libraries\n",
    "from sklearn.linear_model import LogisticRegression\n",
    "from sklearn.tree import DecisionTreeClassifier\n",
    "from sklearn.neighbors import KNeighborsClassifier\n",
    "from sklearn.ensemble import AdaBoostClassifier\n",
    "from sklearn.ensemble import GradientBoostingClassifier\n",
    "from sklearn.ensemble import RandomForestClassifier\n",
    "from sklearn.ensemble import ExtraTreesClassifier\n",
    "from sklearn.ensemble import BaggingClassifier\n",
    "from xgboost import XGBClassifier\n",
    "from sklearn.svm import SVC\n",
    "from sklearn.naive_bayes import GaussianNB\n"
   ]
  },
  {
   "cell_type": "markdown",
   "metadata": {},
   "source": [
    "##### Importing datasets"
   ]
  },
  {
   "cell_type": "code",
   "execution_count": 3,
   "metadata": {},
   "outputs": [],
   "source": [
    "train_data = pd.read_csv('train.csv')\n",
    "test_data = pd.read_csv('test.csv')"
   ]
  },
  {
   "cell_type": "code",
   "execution_count": 4,
   "metadata": {},
   "outputs": [
    {
     "data": {
      "text/plain": [
       "((614, 13), (367, 12))"
      ]
     },
     "execution_count": 4,
     "metadata": {},
     "output_type": "execute_result"
    }
   ],
   "source": [
    "train_data.shape, test_data.shape   "
   ]
  },
  {
   "cell_type": "code",
   "execution_count": 5,
   "metadata": {},
   "outputs": [
    {
     "name": "stdout",
     "output_type": "stream",
     "text": [
      "<class 'pandas.core.frame.DataFrame'>\n",
      "RangeIndex: 614 entries, 0 to 613\n",
      "Data columns (total 13 columns):\n",
      " #   Column             Non-Null Count  Dtype  \n",
      "---  ------             --------------  -----  \n",
      " 0   Loan_ID            614 non-null    object \n",
      " 1   Gender             601 non-null    object \n",
      " 2   Married            611 non-null    object \n",
      " 3   Dependents         599 non-null    object \n",
      " 4   Education          614 non-null    object \n",
      " 5   Self_Employed      582 non-null    object \n",
      " 6   ApplicantIncome    614 non-null    int64  \n",
      " 7   CoapplicantIncome  614 non-null    float64\n",
      " 8   LoanAmount         592 non-null    float64\n",
      " 9   Loan_Amount_Term   600 non-null    float64\n",
      " 10  Credit_History     564 non-null    float64\n",
      " 11  Property_Area      614 non-null    object \n",
      " 12  Loan_Status        614 non-null    object \n",
      "dtypes: float64(4), int64(1), object(8)\n",
      "memory usage: 62.5+ KB\n",
      "<class 'pandas.core.frame.DataFrame'>\n",
      "RangeIndex: 367 entries, 0 to 366\n",
      "Data columns (total 12 columns):\n",
      " #   Column             Non-Null Count  Dtype  \n",
      "---  ------             --------------  -----  \n",
      " 0   Loan_ID            367 non-null    object \n",
      " 1   Gender             356 non-null    object \n",
      " 2   Married            367 non-null    object \n",
      " 3   Dependents         357 non-null    object \n",
      " 4   Education          367 non-null    object \n",
      " 5   Self_Employed      344 non-null    object \n",
      " 6   ApplicantIncome    367 non-null    int64  \n",
      " 7   CoapplicantIncome  367 non-null    int64  \n",
      " 8   LoanAmount         362 non-null    float64\n",
      " 9   Loan_Amount_Term   361 non-null    float64\n",
      " 10  Credit_History     338 non-null    float64\n",
      " 11  Property_Area      367 non-null    object \n",
      "dtypes: float64(3), int64(2), object(7)\n",
      "memory usage: 34.5+ KB\n"
     ]
    },
    {
     "data": {
      "text/plain": [
       "(None, None)"
      ]
     },
     "execution_count": 5,
     "metadata": {},
     "output_type": "execute_result"
    }
   ],
   "source": [
    "train_data.info(), test_data.info()"
   ]
  },
  {
   "cell_type": "code",
   "execution_count": 6,
   "metadata": {},
   "outputs": [
    {
     "name": "stdout",
     "output_type": "stream",
     "text": [
      "<class 'pandas.core.frame.DataFrame'>\n",
      "Int64Index: 981 entries, 0 to 366\n",
      "Data columns (total 13 columns):\n",
      " #   Column             Non-Null Count  Dtype  \n",
      "---  ------             --------------  -----  \n",
      " 0   Loan_ID            981 non-null    object \n",
      " 1   Gender             957 non-null    object \n",
      " 2   Married            978 non-null    object \n",
      " 3   Dependents         956 non-null    object \n",
      " 4   Education          981 non-null    object \n",
      " 5   Self_Employed      926 non-null    object \n",
      " 6   ApplicantIncome    981 non-null    int64  \n",
      " 7   CoapplicantIncome  981 non-null    float64\n",
      " 8   LoanAmount         954 non-null    float64\n",
      " 9   Loan_Amount_Term   961 non-null    float64\n",
      " 10  Credit_History     902 non-null    float64\n",
      " 11  Property_Area      981 non-null    object \n",
      " 12  Loan_Status        614 non-null    object \n",
      "dtypes: float64(4), int64(1), object(8)\n",
      "memory usage: 107.3+ KB\n"
     ]
    }
   ],
   "source": [
    "## Concatinating train and test data since we need to analyze complete data\n",
    "\n",
    "data = pd.concat([train_data, test_data], sort = False)\n",
    "data.info()"
   ]
  },
  {
   "cell_type": "code",
   "execution_count": 7,
   "metadata": {},
   "outputs": [
    {
     "data": {
      "text/html": [
       "<div>\n",
       "<style scoped>\n",
       "    .dataframe tbody tr th:only-of-type {\n",
       "        vertical-align: middle;\n",
       "    }\n",
       "\n",
       "    .dataframe tbody tr th {\n",
       "        vertical-align: top;\n",
       "    }\n",
       "\n",
       "    .dataframe thead th {\n",
       "        text-align: right;\n",
       "    }\n",
       "</style>\n",
       "<table border=\"1\" class=\"dataframe\">\n",
       "  <thead>\n",
       "    <tr style=\"text-align: right;\">\n",
       "      <th></th>\n",
       "      <th>ApplicantIncome</th>\n",
       "      <th>CoapplicantIncome</th>\n",
       "      <th>LoanAmount</th>\n",
       "      <th>Loan_Amount_Term</th>\n",
       "      <th>Credit_History</th>\n",
       "    </tr>\n",
       "  </thead>\n",
       "  <tbody>\n",
       "    <tr>\n",
       "      <th>count</th>\n",
       "      <td>981.000000</td>\n",
       "      <td>981.000000</td>\n",
       "      <td>954.000000</td>\n",
       "      <td>961.000000</td>\n",
       "      <td>902.000000</td>\n",
       "    </tr>\n",
       "    <tr>\n",
       "      <th>mean</th>\n",
       "      <td>5179.795107</td>\n",
       "      <td>1601.916330</td>\n",
       "      <td>142.511530</td>\n",
       "      <td>342.201873</td>\n",
       "      <td>0.835920</td>\n",
       "    </tr>\n",
       "    <tr>\n",
       "      <th>std</th>\n",
       "      <td>5695.104533</td>\n",
       "      <td>2718.772806</td>\n",
       "      <td>77.421743</td>\n",
       "      <td>65.100602</td>\n",
       "      <td>0.370553</td>\n",
       "    </tr>\n",
       "    <tr>\n",
       "      <th>min</th>\n",
       "      <td>0.000000</td>\n",
       "      <td>0.000000</td>\n",
       "      <td>9.000000</td>\n",
       "      <td>6.000000</td>\n",
       "      <td>0.000000</td>\n",
       "    </tr>\n",
       "    <tr>\n",
       "      <th>25%</th>\n",
       "      <td>2875.000000</td>\n",
       "      <td>0.000000</td>\n",
       "      <td>100.000000</td>\n",
       "      <td>360.000000</td>\n",
       "      <td>1.000000</td>\n",
       "    </tr>\n",
       "    <tr>\n",
       "      <th>50%</th>\n",
       "      <td>3800.000000</td>\n",
       "      <td>1110.000000</td>\n",
       "      <td>126.000000</td>\n",
       "      <td>360.000000</td>\n",
       "      <td>1.000000</td>\n",
       "    </tr>\n",
       "    <tr>\n",
       "      <th>75%</th>\n",
       "      <td>5516.000000</td>\n",
       "      <td>2365.000000</td>\n",
       "      <td>162.000000</td>\n",
       "      <td>360.000000</td>\n",
       "      <td>1.000000</td>\n",
       "    </tr>\n",
       "    <tr>\n",
       "      <th>max</th>\n",
       "      <td>81000.000000</td>\n",
       "      <td>41667.000000</td>\n",
       "      <td>700.000000</td>\n",
       "      <td>480.000000</td>\n",
       "      <td>1.000000</td>\n",
       "    </tr>\n",
       "  </tbody>\n",
       "</table>\n",
       "</div>"
      ],
      "text/plain": [
       "       ApplicantIncome  CoapplicantIncome  LoanAmount  Loan_Amount_Term  \\\n",
       "count       981.000000         981.000000  954.000000        961.000000   \n",
       "mean       5179.795107        1601.916330  142.511530        342.201873   \n",
       "std        5695.104533        2718.772806   77.421743         65.100602   \n",
       "min           0.000000           0.000000    9.000000          6.000000   \n",
       "25%        2875.000000           0.000000  100.000000        360.000000   \n",
       "50%        3800.000000        1110.000000  126.000000        360.000000   \n",
       "75%        5516.000000        2365.000000  162.000000        360.000000   \n",
       "max       81000.000000       41667.000000  700.000000        480.000000   \n",
       "\n",
       "       Credit_History  \n",
       "count      902.000000  \n",
       "mean         0.835920  \n",
       "std          0.370553  \n",
       "min          0.000000  \n",
       "25%          1.000000  \n",
       "50%          1.000000  \n",
       "75%          1.000000  \n",
       "max          1.000000  "
      ]
     },
     "execution_count": 7,
     "metadata": {},
     "output_type": "execute_result"
    }
   ],
   "source": [
    "data.describe()"
   ]
  },
  {
   "cell_type": "code",
   "execution_count": 8,
   "metadata": {},
   "outputs": [
    {
     "name": "stdout",
     "output_type": "stream",
     "text": [
      "Loan_Status          367\n",
      "Credit_History        79\n",
      "Self_Employed         55\n",
      "LoanAmount            27\n",
      "Dependents            25\n",
      "Gender                24\n",
      "Loan_Amount_Term      20\n",
      "Married                3\n",
      "Property_Area          0\n",
      "CoapplicantIncome      0\n",
      "ApplicantIncome        0\n",
      "Education              0\n",
      "Loan_ID                0\n",
      "dtype: int64\n"
     ]
    }
   ],
   "source": [
    "## Finding the sum of null values in complete data\n",
    "\n",
    "print(data.isnull().sum().sort_values(ascending = False))  "
   ]
  },
  {
   "cell_type": "code",
   "execution_count": 10,
   "metadata": {},
   "outputs": [
    {
     "data": {
      "text/plain": [
       "0"
      ]
     },
     "execution_count": 10,
     "metadata": {},
     "output_type": "execute_result"
    }
   ],
   "source": [
    "data.duplicated().sum()  ## No duplicates in complete data"
   ]
  },
  {
   "cell_type": "code",
   "execution_count": 13,
   "metadata": {},
   "outputs": [
    {
     "data": {
      "text/html": [
       "<div>\n",
       "<style scoped>\n",
       "    .dataframe tbody tr th:only-of-type {\n",
       "        vertical-align: middle;\n",
       "    }\n",
       "\n",
       "    .dataframe tbody tr th {\n",
       "        vertical-align: top;\n",
       "    }\n",
       "\n",
       "    .dataframe thead th {\n",
       "        text-align: right;\n",
       "    }\n",
       "</style>\n",
       "<table border=\"1\" class=\"dataframe\">\n",
       "  <thead>\n",
       "    <tr style=\"text-align: right;\">\n",
       "      <th></th>\n",
       "      <th>ApplicantIncome</th>\n",
       "      <th>CoapplicantIncome</th>\n",
       "      <th>LoanAmount</th>\n",
       "      <th>Loan_Amount_Term</th>\n",
       "      <th>Credit_History</th>\n",
       "    </tr>\n",
       "  </thead>\n",
       "  <tbody>\n",
       "    <tr>\n",
       "      <th>ApplicantIncome</th>\n",
       "      <td>1.000000</td>\n",
       "      <td>-0.114247</td>\n",
       "      <td>0.551811</td>\n",
       "      <td>-0.023089</td>\n",
       "      <td>0.023378</td>\n",
       "    </tr>\n",
       "    <tr>\n",
       "      <th>CoapplicantIncome</th>\n",
       "      <td>-0.114247</td>\n",
       "      <td>1.000000</td>\n",
       "      <td>0.179228</td>\n",
       "      <td>-0.043860</td>\n",
       "      <td>-0.027253</td>\n",
       "    </tr>\n",
       "    <tr>\n",
       "      <th>LoanAmount</th>\n",
       "      <td>0.551811</td>\n",
       "      <td>0.179228</td>\n",
       "      <td>1.000000</td>\n",
       "      <td>0.055636</td>\n",
       "      <td>-0.008235</td>\n",
       "    </tr>\n",
       "    <tr>\n",
       "      <th>Loan_Amount_Term</th>\n",
       "      <td>-0.023089</td>\n",
       "      <td>-0.043860</td>\n",
       "      <td>0.055636</td>\n",
       "      <td>1.000000</td>\n",
       "      <td>-0.020439</td>\n",
       "    </tr>\n",
       "    <tr>\n",
       "      <th>Credit_History</th>\n",
       "      <td>0.023378</td>\n",
       "      <td>-0.027253</td>\n",
       "      <td>-0.008235</td>\n",
       "      <td>-0.020439</td>\n",
       "      <td>1.000000</td>\n",
       "    </tr>\n",
       "  </tbody>\n",
       "</table>\n",
       "</div>"
      ],
      "text/plain": [
       "                   ApplicantIncome  CoapplicantIncome  LoanAmount  \\\n",
       "ApplicantIncome           1.000000          -0.114247    0.551811   \n",
       "CoapplicantIncome        -0.114247           1.000000    0.179228   \n",
       "LoanAmount                0.551811           0.179228    1.000000   \n",
       "Loan_Amount_Term         -0.023089          -0.043860    0.055636   \n",
       "Credit_History            0.023378          -0.027253   -0.008235   \n",
       "\n",
       "                   Loan_Amount_Term  Credit_History  \n",
       "ApplicantIncome           -0.023089        0.023378  \n",
       "CoapplicantIncome         -0.043860       -0.027253  \n",
       "LoanAmount                 0.055636       -0.008235  \n",
       "Loan_Amount_Term           1.000000       -0.020439  \n",
       "Credit_History            -0.020439        1.000000  "
      ]
     },
     "execution_count": 13,
     "metadata": {},
     "output_type": "execute_result"
    }
   ],
   "source": [
    "c = data.corr()\n",
    "c"
   ]
  },
  {
   "cell_type": "code",
   "execution_count": 13,
   "metadata": {},
   "outputs": [
    {
     "data": {
      "text/plain": [
       "<AxesSubplot:>"
      ]
     },
     "execution_count": 13,
     "metadata": {},
     "output_type": "execute_result"
    },
    {
     "data": {
      "image/png": "[encoded data removed]",
      "text/plain": [
       "<Figure size 432x288 with 2 Axes>"
      ]
     },
     "metadata": {
      "needs_background": "light"
     },
     "output_type": "display_data"
    }
   ],
   "source": [
    "sns.heatmap(c, annot = True)"
   ]
  },
  {
   "cell_type": "markdown",
   "metadata": {},
   "source": [
    "#### Handling Missing data\n",
    "Applying Mode Imputation on Categorical data\n",
    "\n",
    "Applying mean and median imputation on numerical data depending on outliers present in that variable"
   ]
  },
  {
   "cell_type": "code",
   "execution_count": 14,
   "metadata": {},
   "outputs": [
    {
     "data": {
      "text/plain": [
       "Loan_ID                0\n",
       "Gender                 0\n",
       "Married                0\n",
       "Dependents             0\n",
       "Education              0\n",
       "Self_Employed          0\n",
       "ApplicantIncome        0\n",
       "CoapplicantIncome      0\n",
       "LoanAmount            27\n",
       "Loan_Amount_Term      20\n",
       "Credit_History        79\n",
       "Property_Area          0\n",
       "Loan_Status          367\n",
       "dtype: int64"
      ]
     },
     "execution_count": 14,
     "metadata": {},
     "output_type": "execute_result"
    }
   ],
   "source": [
    "data['Gender']=data.Gender.fillna(data['Gender'].mode()[0])\n",
    "data['Married'] =  data.Married.fillna(data.Married.mode()[0])\n",
    "data['Dependents'] =  data.Dependents.fillna(data.Dependents.mode()[0])\n",
    "data['Self_Employed'] =  data.Self_Employed.fillna(data.Self_Employed.mode()[0])\n",
    "\n",
    "data.isnull().sum()"
   ]
  },
  {
   "cell_type": "markdown",
   "metadata": {},
   "source": [
    "### Visualizations of Categorical data\n",
    "\n",
    "Univariate Analysis\n",
    "\n"
   ]
  },
  {
   "cell_type": "code",
   "execution_count": 14,
   "metadata": {},
   "outputs": [
    {
     "name": "stdout",
     "output_type": "stream",
     "text": [
      "Y    0.687296\n",
      "N    0.312704\n",
      "Name: Loan_Status, dtype: float64\n",
      "Male      0.814475\n",
      "Female    0.185525\n",
      "Name: Gender, dtype: float64\n",
      "Yes    0.646279\n",
      "No     0.353721\n",
      "Name: Married, dtype: float64\n",
      "0     0.581040\n",
      "1     0.163099\n",
      "2     0.163099\n",
      "3+    0.092762\n",
      "Name: Dependents, dtype: float64\n",
      "Graduate        0.777778\n",
      "Not Graduate    0.222222\n",
      "Name: Education, dtype: float64\n",
      "No     0.878695\n",
      "Yes    0.121305\n",
      "Name: Self_Employed, dtype: float64\n",
      "Semiurban    0.355759\n",
      "Urban        0.348624\n",
      "Rural        0.295617\n",
      "Name: Property_Area, dtype: float64\n",
      "1.0    0.83592\n",
      "0.0    0.16408\n",
      "Name: Credit_History, dtype: float64\n"
     ]
    },
    {
     "data": {
      "image/png": "[encoded data removed]",
      "text/plain": [
       "<Figure size 432x288 with 1 Axes>"
      ]
     },
     "metadata": {
      "needs_background": "light"
     },
     "output_type": "display_data"
    },
    {
     "data": {
      "image/png": "[encoded data removed]",
      "text/plain": [
       "<Figure size 432x288 with 1 Axes>"
      ]
     },
     "metadata": {
      "needs_background": "light"
     },
     "output_type": "display_data"
    },
    {
     "data": {
      "image/png": "[encoded data removed]",
      "text/plain": [
       "<Figure size 432x288 with 1 Axes>"
      ]
     },
     "metadata": {
      "needs_background": "light"
     },
     "output_type": "display_data"
    },
    {
     "data": {
      "image/png": "[encoded data removed]",
      "text/plain": [
       "<Figure size 432x288 with 1 Axes>"
      ]
     },
     "metadata": {
      "needs_background": "light"
     },
     "output_type": "display_data"
    },
    {
     "data": {
      "image/png": "[encoded data removed]",
      "text/plain": [
       "<Figure size 432x288 with 1 Axes>"
      ]
     },
     "metadata": {
      "needs_background": "light"
     },
     "output_type": "display_data"
    },
    {
     "data": {
      "image/png": "[encoded data removed]",
      "text/plain": [
       "<Figure size 432x288 with 1 Axes>"
      ]
     },
     "metadata": {
      "needs_background": "light"
     },
     "output_type": "display_data"
    },
    {
     "data": {
      "image/png": "[encoded data removed]",
      "text/plain": [
       "<Figure size 432x288 with 1 Axes>"
      ]
     },
     "metadata": {
      "needs_background": "light"
     },
     "output_type": "display_data"
    }
   ],
   "source": [
    "import warnings\n",
    "warnings.filterwarnings('ignore')\n",
    "\n",
    "pd.crosstab(data['Gender'], data['Loan_Status']).plot(kind='bar')\n",
    "pd.crosstab(data['Married'], data['Loan_Status']).plot(kind='bar')\n",
    "pd.crosstab(data['Dependents'], data['Loan_Status']).plot(kind='bar')\n",
    "pd.crosstab(data['Self_Employed'], data['Loan_Status']).plot(kind='bar')\n",
    "pd.crosstab(data['Education'], data['Loan_Status']).plot(kind='bar')\n",
    "pd.crosstab(data['Property_Area'], data['Loan_Status']).plot(kind='bar')\n",
    "pd.crosstab(data['Credit_History'], data['Loan_Status']).plot(kind='bar')\n",
    "\n",
    "print(data['Loan_Status'].value_counts(normalize= True))\n",
    "print(data['Gender'].value_counts(normalize = True)) \n",
    "print(data['Married'].value_counts(normalize = True)) \n",
    "print(data['Dependents'].value_counts(normalize = True)) \n",
    "print(data['Education'].value_counts(normalize = True)) \n",
    "print(data['Self_Employed'].value_counts(normalize = True)) \n",
    "print(data['Property_Area'].value_counts(normalize = True)) \n",
    "print(data['Credit_History'].value_counts(normalize = True)) \n"
   ]
  },
  {
   "cell_type": "code",
   "execution_count": 15,
   "metadata": {},
   "outputs": [
    {
     "data": {
      "text/html": [
       "<div>\n",
       "<style scoped>\n",
       "    .dataframe tbody tr th:only-of-type {\n",
       "        vertical-align: middle;\n",
       "    }\n",
       "\n",
       "    .dataframe tbody tr th {\n",
       "        vertical-align: top;\n",
       "    }\n",
       "\n",
       "    .dataframe thead th {\n",
       "        text-align: right;\n",
       "    }\n",
       "</style>\n",
       "<table border=\"1\" class=\"dataframe\">\n",
       "  <thead>\n",
       "    <tr style=\"text-align: right;\">\n",
       "      <th></th>\n",
       "      <th>Loan_ID</th>\n",
       "      <th>Gender</th>\n",
       "      <th>Married</th>\n",
       "      <th>Dependents</th>\n",
       "      <th>Education</th>\n",
       "      <th>Self_Employed</th>\n",
       "      <th>ApplicantIncome</th>\n",
       "      <th>CoapplicantIncome</th>\n",
       "      <th>LoanAmount</th>\n",
       "      <th>Loan_Amount_Term</th>\n",
       "      <th>Credit_History</th>\n",
       "      <th>Property_Area</th>\n",
       "      <th>Loan_Status</th>\n",
       "    </tr>\n",
       "  </thead>\n",
       "  <tbody>\n",
       "    <tr>\n",
       "      <th>0</th>\n",
       "      <td>LP001002</td>\n",
       "      <td>Male</td>\n",
       "      <td>No</td>\n",
       "      <td>0</td>\n",
       "      <td>Graduate</td>\n",
       "      <td>No</td>\n",
       "      <td>5849</td>\n",
       "      <td>0.0</td>\n",
       "      <td>NaN</td>\n",
       "      <td>360.0</td>\n",
       "      <td>1.0</td>\n",
       "      <td>Urban</td>\n",
       "      <td>Y</td>\n",
       "    </tr>\n",
       "    <tr>\n",
       "      <th>1</th>\n",
       "      <td>LP001003</td>\n",
       "      <td>Male</td>\n",
       "      <td>Yes</td>\n",
       "      <td>1</td>\n",
       "      <td>Graduate</td>\n",
       "      <td>No</td>\n",
       "      <td>4583</td>\n",
       "      <td>1508.0</td>\n",
       "      <td>128.0</td>\n",
       "      <td>360.0</td>\n",
       "      <td>1.0</td>\n",
       "      <td>Rural</td>\n",
       "      <td>N</td>\n",
       "    </tr>\n",
       "    <tr>\n",
       "      <th>2</th>\n",
       "      <td>LP001005</td>\n",
       "      <td>Male</td>\n",
       "      <td>Yes</td>\n",
       "      <td>0</td>\n",
       "      <td>Graduate</td>\n",
       "      <td>Yes</td>\n",
       "      <td>3000</td>\n",
       "      <td>0.0</td>\n",
       "      <td>66.0</td>\n",
       "      <td>360.0</td>\n",
       "      <td>1.0</td>\n",
       "      <td>Urban</td>\n",
       "      <td>Y</td>\n",
       "    </tr>\n",
       "    <tr>\n",
       "      <th>3</th>\n",
       "      <td>LP001006</td>\n",
       "      <td>Male</td>\n",
       "      <td>Yes</td>\n",
       "      <td>0</td>\n",
       "      <td>Not Graduate</td>\n",
       "      <td>No</td>\n",
       "      <td>2583</td>\n",
       "      <td>2358.0</td>\n",
       "      <td>120.0</td>\n",
       "      <td>360.0</td>\n",
       "      <td>1.0</td>\n",
       "      <td>Urban</td>\n",
       "      <td>Y</td>\n",
       "    </tr>\n",
       "    <tr>\n",
       "      <th>4</th>\n",
       "      <td>LP001008</td>\n",
       "      <td>Male</td>\n",
       "      <td>No</td>\n",
       "      <td>0</td>\n",
       "      <td>Graduate</td>\n",
       "      <td>No</td>\n",
       "      <td>6000</td>\n",
       "      <td>0.0</td>\n",
       "      <td>141.0</td>\n",
       "      <td>360.0</td>\n",
       "      <td>1.0</td>\n",
       "      <td>Urban</td>\n",
       "      <td>Y</td>\n",
       "    </tr>\n",
       "  </tbody>\n",
       "</table>\n",
       "</div>"
      ],
      "text/plain": [
       "    Loan_ID Gender Married Dependents     Education Self_Employed  \\\n",
       "0  LP001002   Male      No          0      Graduate            No   \n",
       "1  LP001003   Male     Yes          1      Graduate            No   \n",
       "2  LP001005   Male     Yes          0      Graduate           Yes   \n",
       "3  LP001006   Male     Yes          0  Not Graduate            No   \n",
       "4  LP001008   Male      No          0      Graduate            No   \n",
       "\n",
       "   ApplicantIncome  CoapplicantIncome  LoanAmount  Loan_Amount_Term  \\\n",
       "0             5849                0.0         NaN             360.0   \n",
       "1             4583             1508.0       128.0             360.0   \n",
       "2             3000                0.0        66.0             360.0   \n",
       "3             2583             2358.0       120.0             360.0   \n",
       "4             6000                0.0       141.0             360.0   \n",
       "\n",
       "   Credit_History Property_Area Loan_Status  \n",
       "0             1.0         Urban           Y  \n",
       "1             1.0         Rural           N  \n",
       "2             1.0         Urban           Y  \n",
       "3             1.0         Urban           Y  \n",
       "4             1.0         Urban           Y  "
      ]
     },
     "execution_count": 15,
     "metadata": {},
     "output_type": "execute_result"
    }
   ],
   "source": [
    "bank_data = data.copy()\n",
    "bank_data.head()"
   ]
  },
  {
   "cell_type": "code",
   "execution_count": 16,
   "metadata": {},
   "outputs": [
    {
     "name": "stdout",
     "output_type": "stream",
     "text": [
      "1    349\n",
      "2    342\n",
      "0    290\n",
      "Name: Property_Area, dtype: int64\n",
      "0    862\n",
      "1    119\n",
      "Name: Self_Employed, dtype: int64\n",
      "1    763\n",
      "0    218\n",
      "Name: Education, dtype: int64\n",
      "1    634\n",
      "0    347\n",
      "Name: Married, dtype: int64\n",
      "1    799\n",
      "0    182\n",
      "Name: Gender, dtype: int64\n",
      "0     570\n",
      "2     160\n",
      "1     160\n",
      "3+     91\n",
      "Name: Dependents, dtype: int64\n"
     ]
    }
   ],
   "source": [
    "### Converting categorical data into numerical data\n",
    "\n",
    "\n",
    "bank_data.Gender = bank_data.Gender.map({'Male':1,'Female':0})\n",
    "bank_data.Married = bank_data.Married.map({'Yes':1,'No':0})\n",
    "bank_data.Education = bank_data.Education.map({'Graduate':1,'Not Graduate':0})\n",
    "bank_data.Self_Employed = bank_data.Self_Employed.map({'Yes':1,'No':0})\n",
    "bank_data.Property_Area = bank_data.Property_Area.map({'Urban':2,'Rural':0,'Semiurban':1})\n",
    "print(bank_data['Property_Area'].value_counts())\n",
    "print(bank_data['Self_Employed'].value_counts())\n",
    "print(bank_data['Education'].value_counts())\n",
    "print(bank_data['Married'].value_counts())\n",
    "print(bank_data['Gender'].value_counts())\n",
    "print(bank_data['Dependents'].value_counts())\n"
   ]
  },
  {
   "cell_type": "code",
   "execution_count": 17,
   "metadata": {},
   "outputs": [],
   "source": [
    "bank_data['Loan_Status']= bank_data['Loan_Status'].map({'Y':1, 'N': 0})\n",
    "bank_data['Dependents']= bank_data['Dependents'].map({'0':0, '1':1,'2':2, '3+': 3})\n"
   ]
  },
  {
   "cell_type": "code",
   "execution_count": 18,
   "metadata": {},
   "outputs": [
    {
     "data": {
      "text/plain": [
       "Loan_ID               object\n",
       "Gender                 int64\n",
       "Married                int64\n",
       "Dependents             int64\n",
       "Education              int64\n",
       "Self_Employed          int64\n",
       "ApplicantIncome        int64\n",
       "CoapplicantIncome    float64\n",
       "LoanAmount           float64\n",
       "Loan_Amount_Term     float64\n",
       "Credit_History       float64\n",
       "Property_Area          int64\n",
       "Loan_Status          float64\n",
       "dtype: object"
      ]
     },
     "execution_count": 18,
     "metadata": {},
     "output_type": "execute_result"
    }
   ],
   "source": [
    "bank_data.dtypes"
   ]
  },
  {
   "cell_type": "markdown",
   "metadata": {},
   "source": [
    "### Handling Numerical data and its Visualization"
   ]
  },
  {
   "cell_type": "code",
   "execution_count": 21,
   "metadata": {},
   "outputs": [
    {
     "data": {
      "text/html": [
       "<div>\n",
       "<style scoped>\n",
       "    .dataframe tbody tr th:only-of-type {\n",
       "        vertical-align: middle;\n",
       "    }\n",
       "\n",
       "    .dataframe tbody tr th {\n",
       "        vertical-align: top;\n",
       "    }\n",
       "\n",
       "    .dataframe thead th {\n",
       "        text-align: right;\n",
       "    }\n",
       "</style>\n",
       "<table border=\"1\" class=\"dataframe\">\n",
       "  <thead>\n",
       "    <tr style=\"text-align: right;\">\n",
       "      <th></th>\n",
       "      <th>ApplicantIncome</th>\n",
       "      <th>CoapplicantIncome</th>\n",
       "      <th>LoanAmount</th>\n",
       "      <th>Loan_Amount_Term</th>\n",
       "      <th>Credit_History</th>\n",
       "    </tr>\n",
       "  </thead>\n",
       "  <tbody>\n",
       "    <tr>\n",
       "      <th>0</th>\n",
       "      <td>5849</td>\n",
       "      <td>0.0</td>\n",
       "      <td>NaN</td>\n",
       "      <td>360.0</td>\n",
       "      <td>1.0</td>\n",
       "    </tr>\n",
       "    <tr>\n",
       "      <th>1</th>\n",
       "      <td>4583</td>\n",
       "      <td>1508.0</td>\n",
       "      <td>128.0</td>\n",
       "      <td>360.0</td>\n",
       "      <td>1.0</td>\n",
       "    </tr>\n",
       "    <tr>\n",
       "      <th>2</th>\n",
       "      <td>3000</td>\n",
       "      <td>0.0</td>\n",
       "      <td>66.0</td>\n",
       "      <td>360.0</td>\n",
       "      <td>1.0</td>\n",
       "    </tr>\n",
       "  </tbody>\n",
       "</table>\n",
       "</div>"
      ],
      "text/plain": [
       "   ApplicantIncome  CoapplicantIncome  LoanAmount  Loan_Amount_Term  \\\n",
       "0             5849                0.0         NaN             360.0   \n",
       "1             4583             1508.0       128.0             360.0   \n",
       "2             3000                0.0        66.0             360.0   \n",
       "\n",
       "   Credit_History  \n",
       "0             1.0  \n",
       "1             1.0  \n",
       "2             1.0  "
      ]
     },
     "execution_count": 21,
     "metadata": {},
     "output_type": "execute_result"
    }
   ],
   "source": [
    "num_data = train_data.iloc[:,[6,7,8,9,10]]\n",
    "num_data.head(3)\n"
   ]
  },
  {
   "cell_type": "code",
   "execution_count": 22,
   "metadata": {},
   "outputs": [
    {
     "data": {
      "image/png": "[encoded data removed]",
      "text/plain": [
       "<Figure size 936x648 with 6 Axes>"
      ]
     },
     "metadata": {
      "needs_background": "light"
     },
     "output_type": "display_data"
    }
   ],
   "source": [
    "### Univariate analysis\n",
    "\n",
    "num_data.plot(kind='box', subplots=True, layout=(3,2), sharex=False, sharey=False,figsize = (13,9))\n",
    "plt.show()\n"
   ]
  },
  {
   "cell_type": "code",
   "execution_count": 23,
   "metadata": {},
   "outputs": [
    {
     "data": {
      "text/plain": [
       "array([[<AxesSubplot:title={'center':'ApplicantIncome'}>,\n",
       "        <AxesSubplot:title={'center':'CoapplicantIncome'}>],\n",
       "       [<AxesSubplot:title={'center':'LoanAmount'}>,\n",
       "        <AxesSubplot:title={'center':'Loan_Amount_Term'}>],\n",
       "       [<AxesSubplot:title={'center':'Credit_History'}>, <AxesSubplot:>]],\n",
       "      dtype=object)"
      ]
     },
     "execution_count": 23,
     "metadata": {},
     "output_type": "execute_result"
    },
    {
     "data": {
      "image/png": "[encoded data removed]",
      "text/plain": [
       "<Figure size 936x720 with 6 Axes>"
      ]
     },
     "metadata": {
      "needs_background": "light"
     },
     "output_type": "display_data"
    }
   ],
   "source": [
    "num_data.hist(figsize=(13,10))"
   ]
  },
  {
   "cell_type": "code",
   "execution_count": 25,
   "metadata": {},
   "outputs": [
    {
     "data": {
      "text/plain": [
       "<AxesSubplot:xlabel='Loan_Amount_Term', ylabel='Density'>"
      ]
     },
     "execution_count": 25,
     "metadata": {},
     "output_type": "execute_result"
    },
    {
     "data": {
      "image/png": "[encoded data removed]",
      "text/plain": [
       "<Figure size 1440x1440 with 8 Axes>"
      ]
     },
     "metadata": {
      "needs_background": "light"
     },
     "output_type": "display_data"
    }
   ],
   "source": [
    "import warnings\n",
    "warnings.filterwarnings('ignore')\n",
    "\n",
    "fig,ax = plt.subplots(figsize=(20,20),nrows=4,ncols=2)\n",
    "sns.boxplot(num_data['ApplicantIncome'],  ax=ax[0][0])\n",
    "sns.distplot(num_data['ApplicantIncome'], kde = True, ax=ax[0][1])\n",
    "sns.boxplot(num_data['CoapplicantIncome'],  ax=ax[1][0])\n",
    "sns.distplot(num_data['CoapplicantIncome'], kde = True, ax=ax[1][1])\n",
    "sns.boxplot(num_data['LoanAmount'], ax=ax[2][0])\n",
    "sns.distplot(num_data['LoanAmount'], kde = True, ax=ax[2][1])\n",
    "sns.boxplot(num_data['Loan_Amount_Term'],  ax=ax[3][0])\n",
    "sns.distplot(num_data['Loan_Amount_Term'], kde = True, ax=ax[3][1])\n",
    "\n",
    "\n"
   ]
  },
  {
   "cell_type": "code",
   "execution_count": 27,
   "metadata": {},
   "outputs": [
    {
     "data": {
      "text/plain": [
       "ApplicantIncome       0\n",
       "CoapplicantIncome     0\n",
       "LoanAmount           22\n",
       "Loan_Amount_Term     14\n",
       "Credit_History       50\n",
       "dtype: int64"
      ]
     },
     "execution_count": 27,
     "metadata": {},
     "output_type": "execute_result"
    }
   ],
   "source": [
    "num_data.isnull().sum()"
   ]
  },
  {
   "cell_type": "code",
   "execution_count": 28,
   "metadata": {},
   "outputs": [
    {
     "data": {
      "text/plain": [
       "ApplicantIncome      5403.459283\n",
       "CoapplicantIncome    1621.245798\n",
       "LoanAmount            146.412162\n",
       "Loan_Amount_Term      342.000000\n",
       "Credit_History          0.842199\n",
       "dtype: float64"
      ]
     },
     "execution_count": 28,
     "metadata": {},
     "output_type": "execute_result"
    }
   ],
   "source": [
    "num_data.mean()"
   ]
  },
  {
   "cell_type": "markdown",
   "metadata": {},
   "source": [
    "## Imputation \n",
    "LoanAmount with its mean\n",
    "\n",
    "Loan_amount_term with 360 months\n",
    "\n",
    "credit_history with its mode\n"
   ]
  },
  {
   "cell_type": "code",
   "execution_count": 30,
   "metadata": {},
   "outputs": [
    {
     "name": "stdout",
     "output_type": "stream",
     "text": [
      "<class 'pandas.core.frame.DataFrame'>\n",
      "Int64Index: 981 entries, 0 to 366\n",
      "Data columns (total 13 columns):\n",
      " #   Column             Non-Null Count  Dtype  \n",
      "---  ------             --------------  -----  \n",
      " 0   Loan_ID            981 non-null    object \n",
      " 1   Gender             981 non-null    int64  \n",
      " 2   Married            981 non-null    int64  \n",
      " 3   Dependents         981 non-null    int64  \n",
      " 4   Education          981 non-null    int64  \n",
      " 5   Self_Employed      981 non-null    int64  \n",
      " 6   ApplicantIncome    981 non-null    int64  \n",
      " 7   CoapplicantIncome  981 non-null    float64\n",
      " 8   LoanAmount         981 non-null    float64\n",
      " 9   Loan_Amount_Term   981 non-null    float64\n",
      " 10  Credit_History     981 non-null    float64\n",
      " 11  Property_Area      981 non-null    int64  \n",
      " 12  Loan_Status        614 non-null    float64\n",
      "dtypes: float64(5), int64(7), object(1)\n",
      "memory usage: 107.3+ KB\n"
     ]
    }
   ],
   "source": [
    "bank_data['LoanAmount'] = bank_data['LoanAmount'].fillna(bank_data.LoanAmount.mean())\n",
    "bank_data['Loan_Amount_Term'] = bank_data['Loan_Amount_Term'].fillna(360)\n",
    "bank_data['Credit_History'] = bank_data['Credit_History'].fillna(1)\n",
    "bank_data.info()"
   ]
  },
  {
   "cell_type": "markdown",
   "metadata": {},
   "source": [
    "### Treating Outliers"
   ]
  },
  {
   "cell_type": "code",
   "execution_count": 31,
   "metadata": {},
   "outputs": [],
   "source": [
    "bank_data = bank_data.drop(['Loan_ID'], axis = 1)"
   ]
  },
  {
   "cell_type": "code",
   "execution_count": 32,
   "metadata": {},
   "outputs": [
    {
     "data": {
      "text/plain": [
       "Gender                 0\n",
       "Married                0\n",
       "Dependents             0\n",
       "Education              0\n",
       "Self_Employed          0\n",
       "ApplicantIncome        0\n",
       "CoapplicantIncome      0\n",
       "LoanAmount             0\n",
       "Loan_Amount_Term       0\n",
       "Credit_History         0\n",
       "Property_Area          0\n",
       "Loan_Status          367\n",
       "dtype: int64"
      ]
     },
     "execution_count": 32,
     "metadata": {},
     "output_type": "execute_result"
    }
   ],
   "source": [
    "bank_data.isnull().sum()"
   ]
  },
  {
   "cell_type": "code",
   "execution_count": 33,
   "metadata": {},
   "outputs": [
    {
     "data": {
      "text/html": [
       "<div>\n",
       "<style scoped>\n",
       "    .dataframe tbody tr th:only-of-type {\n",
       "        vertical-align: middle;\n",
       "    }\n",
       "\n",
       "    .dataframe tbody tr th {\n",
       "        vertical-align: top;\n",
       "    }\n",
       "\n",
       "    .dataframe thead th {\n",
       "        text-align: right;\n",
       "    }\n",
       "</style>\n",
       "<table border=\"1\" class=\"dataframe\">\n",
       "  <thead>\n",
       "    <tr style=\"text-align: right;\">\n",
       "      <th></th>\n",
       "      <th>Gender</th>\n",
       "      <th>Married</th>\n",
       "      <th>Dependents</th>\n",
       "      <th>Education</th>\n",
       "      <th>Self_Employed</th>\n",
       "      <th>ApplicantIncome</th>\n",
       "      <th>CoapplicantIncome</th>\n",
       "      <th>LoanAmount</th>\n",
       "      <th>Loan_Amount_Term</th>\n",
       "      <th>Credit_History</th>\n",
       "      <th>Property_Area</th>\n",
       "      <th>Loan_Status</th>\n",
       "    </tr>\n",
       "  </thead>\n",
       "  <tbody>\n",
       "    <tr>\n",
       "      <th>Gender</th>\n",
       "      <td>1.000000</td>\n",
       "      <td>0.327012</td>\n",
       "      <td>0.139248</td>\n",
       "      <td>-0.040649</td>\n",
       "      <td>0.024719</td>\n",
       "      <td>0.060444</td>\n",
       "      <td>0.082428</td>\n",
       "      <td>0.096499</td>\n",
       "      <td>-0.069058</td>\n",
       "      <td>0.018627</td>\n",
       "      <td>-0.020801</td>\n",
       "      <td>0.017987</td>\n",
       "    </tr>\n",
       "    <tr>\n",
       "      <th>Married</th>\n",
       "      <td>0.327012</td>\n",
       "      <td>1.000000</td>\n",
       "      <td>0.344291</td>\n",
       "      <td>-0.026211</td>\n",
       "      <td>0.013666</td>\n",
       "      <td>0.052126</td>\n",
       "      <td>0.061606</td>\n",
       "      <td>0.156737</td>\n",
       "      <td>-0.047505</td>\n",
       "      <td>0.021738</td>\n",
       "      <td>0.006372</td>\n",
       "      <td>0.091478</td>\n",
       "    </tr>\n",
       "    <tr>\n",
       "      <th>Dependents</th>\n",
       "      <td>0.139248</td>\n",
       "      <td>0.344291</td>\n",
       "      <td>1.000000</td>\n",
       "      <td>-0.084894</td>\n",
       "      <td>0.026241</td>\n",
       "      <td>0.122136</td>\n",
       "      <td>0.003223</td>\n",
       "      <td>0.149233</td>\n",
       "      <td>-0.084190</td>\n",
       "      <td>-0.045335</td>\n",
       "      <td>0.018639</td>\n",
       "      <td>0.010118</td>\n",
       "    </tr>\n",
       "    <tr>\n",
       "      <th>Education</th>\n",
       "      <td>-0.040649</td>\n",
       "      <td>-0.026211</td>\n",
       "      <td>-0.084894</td>\n",
       "      <td>1.000000</td>\n",
       "      <td>0.010848</td>\n",
       "      <td>0.138909</td>\n",
       "      <td>0.060380</td>\n",
       "      <td>0.162215</td>\n",
       "      <td>0.021575</td>\n",
       "      <td>0.062416</td>\n",
       "      <td>0.050685</td>\n",
       "      <td>0.085884</td>\n",
       "    </tr>\n",
       "    <tr>\n",
       "      <th>Self_Employed</th>\n",
       "      <td>0.024719</td>\n",
       "      <td>0.013666</td>\n",
       "      <td>0.026241</td>\n",
       "      <td>0.010848</td>\n",
       "      <td>1.000000</td>\n",
       "      <td>0.113106</td>\n",
       "      <td>-0.018861</td>\n",
       "      <td>0.106942</td>\n",
       "      <td>-0.031451</td>\n",
       "      <td>0.034485</td>\n",
       "      <td>-0.059678</td>\n",
       "      <td>-0.003700</td>\n",
       "    </tr>\n",
       "    <tr>\n",
       "      <th>ApplicantIncome</th>\n",
       "      <td>0.060444</td>\n",
       "      <td>0.052126</td>\n",
       "      <td>0.122136</td>\n",
       "      <td>0.138909</td>\n",
       "      <td>0.113106</td>\n",
       "      <td>1.000000</td>\n",
       "      <td>-0.114247</td>\n",
       "      <td>0.547188</td>\n",
       "      <td>-0.023823</td>\n",
       "      <td>0.020201</td>\n",
       "      <td>0.005513</td>\n",
       "      <td>-0.004710</td>\n",
       "    </tr>\n",
       "    <tr>\n",
       "      <th>CoapplicantIncome</th>\n",
       "      <td>0.082428</td>\n",
       "      <td>0.061606</td>\n",
       "      <td>0.003223</td>\n",
       "      <td>0.060380</td>\n",
       "      <td>-0.018861</td>\n",
       "      <td>-0.114247</td>\n",
       "      <td>1.000000</td>\n",
       "      <td>0.178449</td>\n",
       "      <td>-0.042750</td>\n",
       "      <td>-0.011531</td>\n",
       "      <td>-0.024921</td>\n",
       "      <td>-0.059187</td>\n",
       "    </tr>\n",
       "    <tr>\n",
       "      <th>LoanAmount</th>\n",
       "      <td>0.096499</td>\n",
       "      <td>0.156737</td>\n",
       "      <td>0.149233</td>\n",
       "      <td>0.162215</td>\n",
       "      <td>0.106942</td>\n",
       "      <td>0.547188</td>\n",
       "      <td>0.178449</td>\n",
       "      <td>1.000000</td>\n",
       "      <td>0.053187</td>\n",
       "      <td>-0.003577</td>\n",
       "      <td>-0.035653</td>\n",
       "      <td>-0.035742</td>\n",
       "    </tr>\n",
       "    <tr>\n",
       "      <th>Loan_Amount_Term</th>\n",
       "      <td>-0.069058</td>\n",
       "      <td>-0.047505</td>\n",
       "      <td>-0.084190</td>\n",
       "      <td>0.021575</td>\n",
       "      <td>-0.031451</td>\n",
       "      <td>-0.023823</td>\n",
       "      <td>-0.042750</td>\n",
       "      <td>0.053187</td>\n",
       "      <td>1.000000</td>\n",
       "      <td>-0.021495</td>\n",
       "      <td>-0.041144</td>\n",
       "      <td>-0.022549</td>\n",
       "    </tr>\n",
       "    <tr>\n",
       "      <th>Credit_History</th>\n",
       "      <td>0.018627</td>\n",
       "      <td>0.021738</td>\n",
       "      <td>-0.045335</td>\n",
       "      <td>0.062416</td>\n",
       "      <td>0.034485</td>\n",
       "      <td>0.020201</td>\n",
       "      <td>-0.011531</td>\n",
       "      <td>-0.003577</td>\n",
       "      <td>-0.021495</td>\n",
       "      <td>1.000000</td>\n",
       "      <td>0.024342</td>\n",
       "      <td>0.540556</td>\n",
       "    </tr>\n",
       "    <tr>\n",
       "      <th>Property_Area</th>\n",
       "      <td>-0.020801</td>\n",
       "      <td>0.006372</td>\n",
       "      <td>0.018639</td>\n",
       "      <td>0.050685</td>\n",
       "      <td>-0.059678</td>\n",
       "      <td>0.005513</td>\n",
       "      <td>-0.024921</td>\n",
       "      <td>-0.035653</td>\n",
       "      <td>-0.041144</td>\n",
       "      <td>0.024342</td>\n",
       "      <td>1.000000</td>\n",
       "      <td>0.032112</td>\n",
       "    </tr>\n",
       "    <tr>\n",
       "      <th>Loan_Status</th>\n",
       "      <td>0.017987</td>\n",
       "      <td>0.091478</td>\n",
       "      <td>0.010118</td>\n",
       "      <td>0.085884</td>\n",
       "      <td>-0.003700</td>\n",
       "      <td>-0.004710</td>\n",
       "      <td>-0.059187</td>\n",
       "      <td>-0.035742</td>\n",
       "      <td>-0.022549</td>\n",
       "      <td>0.540556</td>\n",
       "      <td>0.032112</td>\n",
       "      <td>1.000000</td>\n",
       "    </tr>\n",
       "  </tbody>\n",
       "</table>\n",
       "</div>"
      ],
      "text/plain": [
       "                     Gender   Married  Dependents  Education  Self_Employed  \\\n",
       "Gender             1.000000  0.327012    0.139248  -0.040649       0.024719   \n",
       "Married            0.327012  1.000000    0.344291  -0.026211       0.013666   \n",
       "Dependents         0.139248  0.344291    1.000000  -0.084894       0.026241   \n",
       "Education         -0.040649 -0.026211   -0.084894   1.000000       0.010848   \n",
       "Self_Employed      0.024719  0.013666    0.026241   0.010848       1.000000   \n",
       "ApplicantIncome    0.060444  0.052126    0.122136   0.138909       0.113106   \n",
       "CoapplicantIncome  0.082428  0.061606    0.003223   0.060380      -0.018861   \n",
       "LoanAmount         0.096499  0.156737    0.149233   0.162215       0.106942   \n",
       "Loan_Amount_Term  -0.069058 -0.047505   -0.084190   0.021575      -0.031451   \n",
       "Credit_History     0.018627  0.021738   -0.045335   0.062416       0.034485   \n",
       "Property_Area     -0.020801  0.006372    0.018639   0.050685      -0.059678   \n",
       "Loan_Status        0.017987  0.091478    0.010118   0.085884      -0.003700   \n",
       "\n",
       "                   ApplicantIncome  CoapplicantIncome  LoanAmount  \\\n",
       "Gender                    0.060444           0.082428    0.096499   \n",
       "Married                   0.052126           0.061606    0.156737   \n",
       "Dependents                0.122136           0.003223    0.149233   \n",
       "Education                 0.138909           0.060380    0.162215   \n",
       "Self_Employed             0.113106          -0.018861    0.106942   \n",
       "ApplicantIncome           1.000000          -0.114247    0.547188   \n",
       "CoapplicantIncome        -0.114247           1.000000    0.178449   \n",
       "LoanAmount                0.547188           0.178449    1.000000   \n",
       "Loan_Amount_Term         -0.023823          -0.042750    0.053187   \n",
       "Credit_History            0.020201          -0.011531   -0.003577   \n",
       "Property_Area             0.005513          -0.024921   -0.035653   \n",
       "Loan_Status              -0.004710          -0.059187   -0.035742   \n",
       "\n",
       "                   Loan_Amount_Term  Credit_History  Property_Area  \\\n",
       "Gender                    -0.069058        0.018627      -0.020801   \n",
       "Married                   -0.047505        0.021738       0.006372   \n",
       "Dependents                -0.084190       -0.045335       0.018639   \n",
       "Education                  0.021575        0.062416       0.050685   \n",
       "Self_Employed             -0.031451        0.034485      -0.059678   \n",
       "ApplicantIncome           -0.023823        0.020201       0.005513   \n",
       "CoapplicantIncome         -0.042750       -0.011531      -0.024921   \n",
       "LoanAmount                 0.053187       -0.003577      -0.035653   \n",
       "Loan_Amount_Term           1.000000       -0.021495      -0.041144   \n",
       "Credit_History            -0.021495        1.000000       0.024342   \n",
       "Property_Area             -0.041144        0.024342       1.000000   \n",
       "Loan_Status               -0.022549        0.540556       0.032112   \n",
       "\n",
       "                   Loan_Status  \n",
       "Gender                0.017987  \n",
       "Married               0.091478  \n",
       "Dependents            0.010118  \n",
       "Education             0.085884  \n",
       "Self_Employed        -0.003700  \n",
       "ApplicantIncome      -0.004710  \n",
       "CoapplicantIncome    -0.059187  \n",
       "LoanAmount           -0.035742  \n",
       "Loan_Amount_Term     -0.022549  \n",
       "Credit_History        0.540556  \n",
       "Property_Area         0.032112  \n",
       "Loan_Status           1.000000  "
      ]
     },
     "execution_count": 33,
     "metadata": {},
     "output_type": "execute_result"
    }
   ],
   "source": [
    "corr = bank_data.corr()\n",
    "corr"
   ]
  },
  {
   "cell_type": "code",
   "execution_count": 34,
   "metadata": {},
   "outputs": [
    {
     "data": {
      "text/plain": [
       "<AxesSubplot:>"
      ]
     },
     "execution_count": 34,
     "metadata": {},
     "output_type": "execute_result"
    },
    {
     "data": {
      "image/png": "[encoded data removed]",
      "text/plain": [
       "<Figure size 864x360 with 2 Axes>"
      ]
     },
     "metadata": {
      "needs_background": "light"
     },
     "output_type": "display_data"
    }
   ],
   "source": [
    "plt.figure(figsize= (12,5))\n",
    "sns.heatmap(corr, annot = True, linewidth = 1, cbar=True)"
   ]
  },
  {
   "cell_type": "markdown",
   "metadata": {},
   "source": [
    "###### Standardizing the data"
   ]
  },
  {
   "cell_type": "code",
   "execution_count": 35,
   "metadata": {},
   "outputs": [],
   "source": [
    "def standfn (x):\n",
    "    return (x-x.mean())/x.std()"
   ]
  },
  {
   "cell_type": "code",
   "execution_count": 36,
   "metadata": {},
   "outputs": [],
   "source": [
    "scaled = standfn(bank_data)"
   ]
  },
  {
   "cell_type": "code",
   "execution_count": 37,
   "metadata": {},
   "outputs": [
    {
     "data": {
      "text/plain": [
       "<AxesSubplot:xlabel='Loan_Amount_Term', ylabel='Density'>"
      ]
     },
     "execution_count": 37,
     "metadata": {},
     "output_type": "execute_result"
    },
    {
     "data": {
      "image/png": "[encoded data removed]",
      "text/plain": [
       "<Figure size 1080x720 with 4 Axes>"
      ]
     },
     "metadata": {
      "needs_background": "light"
     },
     "output_type": "display_data"
    }
   ],
   "source": [
    "import warnings\n",
    "warnings.filterwarnings('ignore')\n",
    "\n",
    "fig,ax = plt.subplots(figsize=(15,10),nrows=2,ncols=2)\n",
    "sns.distplot(np.power(np.log(scaled[ 'LoanAmount']),1/2), ax= ax[0][0])\n",
    "sns.distplot(np.power(np.log(scaled['ApplicantIncome']),1/2),  ax= ax[0][1])\n",
    "sns.distplot(np.power(np.log(scaled['CoapplicantIncome']),1/2), ax= ax[1][0])\n",
    "sns.distplot(np.log(scaled['Loan_Amount_Term']), ax= ax[1][1])"
   ]
  },
  {
   "cell_type": "code",
   "execution_count": 60,
   "metadata": {},
   "outputs": [
    {
     "data": {
      "text/plain": [
       "<AxesSubplot:xlabel='Loan_Amount_Term'>"
      ]
     },
     "execution_count": 60,
     "metadata": {},
     "output_type": "execute_result"
    },
    {
     "data": {
      "image/png": "[encoded data removed]",
      "text/plain": [
       "<Figure size 1080x720 with 4 Axes>"
      ]
     },
     "metadata": {
      "needs_background": "light"
     },
     "output_type": "display_data"
    }
   ],
   "source": [
    "\n",
    "fig,ax = plt.subplots(figsize=(15,10),nrows=2,ncols=2)\n",
    "sns.boxplot(np.power(np.log(scaled[ 'LoanAmount']),1/2), ax= ax[0][0])\n",
    "sns.boxplot(np.power(np.log(scaled['ApplicantIncome']),1/2) , ax= ax[0][1])\n",
    "sns.boxplot(np.power(np.log(scaled['CoapplicantIncome']),1/2), ax= ax[1][0])\n",
    "sns.boxplot(np.log1p(scaled['Loan_Amount_Term']), ax= ax[1][1])"
   ]
  },
  {
   "cell_type": "markdown",
   "metadata": {},
   "source": [
    "### Only the credit history is having significant relation with the LoanStatus \n",
    "No other variables are having much influence on the loan status\n",
    "So we need to create new features which show influence on loanstatus using available features"
   ]
  },
  {
   "cell_type": "code",
   "execution_count": 38,
   "metadata": {},
   "outputs": [],
   "source": [
    "### Feature Engineering\n",
    "\n",
    "scaled['loan_amount_install'] = scaled['LoanAmount'] * 1000 / bank_data['Loan_Amount_Term']\n",
    "\n",
    "scaled['TotalIncome'] = scaled['ApplicantIncome'] + bank_data['CoapplicantIncome']"
   ]
  },
  {
   "cell_type": "code",
   "execution_count": 39,
   "metadata": {},
   "outputs": [
    {
     "data": {
      "text/plain": [
       "Gender                   0\n",
       "Married                  0\n",
       "Dependents               0\n",
       "Education                0\n",
       "Self_Employed            0\n",
       "ApplicantIncome          0\n",
       "CoapplicantIncome        0\n",
       "LoanAmount               0\n",
       "Loan_Amount_Term         0\n",
       "Credit_History           0\n",
       "Property_Area            0\n",
       "Loan_Status            367\n",
       "loan_amount_install      0\n",
       "TotalIncome              0\n",
       "dtype: int64"
      ]
     },
     "execution_count": 39,
     "metadata": {},
     "output_type": "execute_result"
    }
   ],
   "source": [
    "scaled.isnull().sum()"
   ]
  },
  {
   "cell_type": "code",
   "execution_count": 42,
   "metadata": {},
   "outputs": [],
   "source": [
    "scaled['Loanamt_log'] = np.log1p(scaled.LoanAmount)\n",
    "scaled['Loanamt_install_log'] =  np.log(scaled.loan_amount_install)\n",
    "scaled['totalincome_log'] = np.log1p(scaled.TotalIncome)"
   ]
  },
  {
   "cell_type": "code",
   "execution_count": 43,
   "metadata": {},
   "outputs": [
    {
     "name": "stdout",
     "output_type": "stream",
     "text": [
      "<class 'pandas.core.frame.DataFrame'>\n",
      "Int64Index: 981 entries, 0 to 366\n",
      "Data columns (total 17 columns):\n",
      " #   Column               Non-Null Count  Dtype  \n",
      "---  ------               --------------  -----  \n",
      " 0   Gender               981 non-null    float64\n",
      " 1   Married              981 non-null    float64\n",
      " 2   Dependents           981 non-null    float64\n",
      " 3   Education            981 non-null    float64\n",
      " 4   Self_Employed        981 non-null    float64\n",
      " 5   ApplicantIncome      981 non-null    float64\n",
      " 6   CoapplicantIncome    981 non-null    float64\n",
      " 7   LoanAmount           981 non-null    float64\n",
      " 8   Loan_Amount_Term     981 non-null    float64\n",
      " 9   Credit_History       981 non-null    float64\n",
      " 10  Property_Area        981 non-null    float64\n",
      " 11  Loan_Status          614 non-null    float64\n",
      " 12  loan_amount_install  981 non-null    float64\n",
      " 13  TotalIncome          981 non-null    float64\n",
      " 14  Loanamt_log          912 non-null    float64\n",
      " 15  Loanamt_install_log  378 non-null    float64\n",
      " 16  totalincome_log      981 non-null    float64\n",
      "dtypes: float64(17)\n",
      "memory usage: 138.0 KB\n"
     ]
    }
   ],
   "source": [
    "scaled.info()"
   ]
  },
  {
   "cell_type": "code",
   "execution_count": 44,
   "metadata": {},
   "outputs": [],
   "source": [
    "scaled.drop(scaled.iloc[:,[5,6,7,13,12]], axis = 1, inplace = True)"
   ]
  },
  {
   "cell_type": "code",
   "execution_count": 45,
   "metadata": {},
   "outputs": [
    {
     "name": "stdout",
     "output_type": "stream",
     "text": [
      "<class 'pandas.core.frame.DataFrame'>\n",
      "Int64Index: 981 entries, 0 to 366\n",
      "Data columns (total 12 columns):\n",
      " #   Column               Non-Null Count  Dtype  \n",
      "---  ------               --------------  -----  \n",
      " 0   Gender               981 non-null    float64\n",
      " 1   Married              981 non-null    float64\n",
      " 2   Dependents           981 non-null    float64\n",
      " 3   Education            981 non-null    float64\n",
      " 4   Self_Employed        981 non-null    float64\n",
      " 5   Loan_Amount_Term     981 non-null    float64\n",
      " 6   Credit_History       981 non-null    float64\n",
      " 7   Property_Area        981 non-null    float64\n",
      " 8   Loan_Status          614 non-null    float64\n",
      " 9   Loanamt_log          912 non-null    float64\n",
      " 10  Loanamt_install_log  378 non-null    float64\n",
      " 11  totalincome_log      981 non-null    float64\n",
      "dtypes: float64(12)\n",
      "memory usage: 99.6 KB\n"
     ]
    }
   ],
   "source": [
    "scaled.info()"
   ]
  },
  {
   "cell_type": "code",
   "execution_count": 46,
   "metadata": {},
   "outputs": [],
   "source": [
    "scaled['Loanamt_log'] = scaled['Loanamt_log'].sample(981).reset_index()\n",
    "scaled['Loanamt_install_log'] = scaled['Loanamt_install_log'].sample(981).reset_index()\n"
   ]
  },
  {
   "cell_type": "code",
   "execution_count": 47,
   "metadata": {},
   "outputs": [
    {
     "data": {
      "text/plain": [
       "Gender                   0\n",
       "Married                  0\n",
       "Dependents               0\n",
       "Education                0\n",
       "Self_Employed            0\n",
       "Loan_Amount_Term         0\n",
       "Credit_History           0\n",
       "Property_Area            0\n",
       "Loan_Status            367\n",
       "Loanamt_log              0\n",
       "Loanamt_install_log      0\n",
       "totalincome_log          0\n",
       "dtype: int64"
      ]
     },
     "execution_count": 47,
     "metadata": {},
     "output_type": "execute_result"
    }
   ],
   "source": [
    "scaled.isnull().sum()"
   ]
  },
  {
   "cell_type": "code",
   "execution_count": 48,
   "metadata": {},
   "outputs": [
    {
     "data": {
      "text/plain": [
       "<AxesSubplot:xlabel='Loan_Amount_Term'>"
      ]
     },
     "execution_count": 48,
     "metadata": {},
     "output_type": "execute_result"
    },
    {
     "data": {
      "image/png": "[encoded data removed]",
      "text/plain": [
       "<Figure size 1080x720 with 4 Axes>"
      ]
     },
     "metadata": {
      "needs_background": "light"
     },
     "output_type": "display_data"
    }
   ],
   "source": [
    "import warnings\n",
    "warnings.filterwarnings('ignore')\n",
    "\n",
    "\n",
    "fig,ax = plt.subplots(figsize=(15,10),nrows=2,ncols=2)\n",
    "sns.boxplot((scaled[ 'Loanamt_log']), ax= ax[0][0])\n",
    "sns.boxplot((scaled['Loanamt_install_log']) , ax= ax[0][1])\n",
    "sns.boxplot((scaled['totalincome_log']), ax= ax[1][0])\n",
    "sns.boxplot((scaled['Loan_Amount_Term']), ax= ax[1][1])"
   ]
  },
  {
   "cell_type": "code",
   "execution_count": 49,
   "metadata": {},
   "outputs": [
    {
     "data": {
      "text/plain": [
       "((614, 12), (367, 12))"
      ]
     },
     "execution_count": 49,
     "metadata": {},
     "output_type": "execute_result"
    }
   ],
   "source": [
    "train = scaled.iloc[:614,:]\n",
    "test = scaled.iloc[614:,:]\n",
    "train.shape, test.shape"
   ]
  },
  {
   "cell_type": "code",
   "execution_count": 50,
   "metadata": {},
   "outputs": [],
   "source": [
    "test = test.drop(['Loan_Status'], axis =1)"
   ]
  },
  {
   "cell_type": "code",
   "execution_count": 51,
   "metadata": {},
   "outputs": [
    {
     "name": "stdout",
     "output_type": "stream",
     "text": [
      "<class 'pandas.core.frame.DataFrame'>\n",
      "Int64Index: 614 entries, 0 to 613\n",
      "Data columns (total 12 columns):\n",
      " #   Column               Non-Null Count  Dtype  \n",
      "---  ------               --------------  -----  \n",
      " 0   Gender               614 non-null    float64\n",
      " 1   Married              614 non-null    float64\n",
      " 2   Dependents           614 non-null    float64\n",
      " 3   Education            614 non-null    float64\n",
      " 4   Self_Employed        614 non-null    float64\n",
      " 5   Loan_Amount_Term     614 non-null    float64\n",
      " 6   Credit_History       614 non-null    float64\n",
      " 7   Property_Area        614 non-null    float64\n",
      " 8   Loan_Status          614 non-null    float64\n",
      " 9   Loanamt_log          614 non-null    float64\n",
      " 10  Loanamt_install_log  614 non-null    float64\n",
      " 11  totalincome_log      614 non-null    float64\n",
      "dtypes: float64(12)\n",
      "memory usage: 62.4 KB\n",
      "<class 'pandas.core.frame.DataFrame'>\n",
      "Int64Index: 367 entries, 0 to 366\n",
      "Data columns (total 11 columns):\n",
      " #   Column               Non-Null Count  Dtype  \n",
      "---  ------               --------------  -----  \n",
      " 0   Gender               367 non-null    float64\n",
      " 1   Married              367 non-null    float64\n",
      " 2   Dependents           367 non-null    float64\n",
      " 3   Education            367 non-null    float64\n",
      " 4   Self_Employed        367 non-null    float64\n",
      " 5   Loan_Amount_Term     367 non-null    float64\n",
      " 6   Credit_History       367 non-null    float64\n",
      " 7   Property_Area        367 non-null    float64\n",
      " 8   Loanamt_log          367 non-null    float64\n",
      " 9   Loanamt_install_log  367 non-null    float64\n",
      " 10  totalincome_log      367 non-null    float64\n",
      "dtypes: float64(11)\n",
      "memory usage: 34.4 KB\n"
     ]
    },
    {
     "data": {
      "text/plain": [
       "(None, None)"
      ]
     },
     "execution_count": 51,
     "metadata": {},
     "output_type": "execute_result"
    }
   ],
   "source": [
    "train.info(),   test.info()"
   ]
  },
  {
   "cell_type": "code",
   "execution_count": 52,
   "metadata": {},
   "outputs": [
    {
     "data": {
      "text/plain": [
       "0      Y\n",
       "1      N\n",
       "2      Y\n",
       "3      Y\n",
       "4      Y\n",
       "      ..\n",
       "609    Y\n",
       "610    Y\n",
       "611    Y\n",
       "612    Y\n",
       "613    N\n",
       "Name: Loan_Status, Length: 614, dtype: object"
      ]
     },
     "execution_count": 52,
     "metadata": {},
     "output_type": "execute_result"
    }
   ],
   "source": [
    "x = train.drop(['Loan_Status'], axis = 1)\n",
    "y = train_data.Loan_Status\n",
    "y"
   ]
  },
  {
   "cell_type": "code",
   "execution_count": 53,
   "metadata": {},
   "outputs": [
    {
     "name": "stdout",
     "output_type": "stream",
     "text": [
      "<class 'pandas.core.frame.DataFrame'>\n",
      "Int64Index: 614 entries, 0 to 613\n",
      "Data columns (total 11 columns):\n",
      " #   Column               Non-Null Count  Dtype  \n",
      "---  ------               --------------  -----  \n",
      " 0   Gender               614 non-null    float64\n",
      " 1   Married              614 non-null    float64\n",
      " 2   Dependents           614 non-null    float64\n",
      " 3   Education            614 non-null    float64\n",
      " 4   Self_Employed        614 non-null    float64\n",
      " 5   Loan_Amount_Term     614 non-null    float64\n",
      " 6   Credit_History       614 non-null    float64\n",
      " 7   Property_Area        614 non-null    float64\n",
      " 8   Loanamt_log          614 non-null    float64\n",
      " 9   Loanamt_install_log  614 non-null    float64\n",
      " 10  totalincome_log      614 non-null    float64\n",
      "dtypes: float64(11)\n",
      "memory usage: 57.6 KB\n"
     ]
    }
   ],
   "source": [
    "x.info()"
   ]
  },
  {
   "cell_type": "code",
   "execution_count": 54,
   "metadata": {},
   "outputs": [],
   "source": [
    "from sklearn.preprocessing import LabelEncoder\n",
    "le = LabelEncoder()\n",
    "y = le.fit_transform(y)\n",
    "y = pd.DataFrame(y)"
   ]
  },
  {
   "cell_type": "code",
   "execution_count": 55,
   "metadata": {},
   "outputs": [],
   "source": [
    "## Spliting the data using Train & test splits\n",
    "\n",
    "xtrain, xtest, ytrain, ytest = train_test_split(x,y, test_size = 0.33, random_state = 100, stratify = y)"
   ]
  },
  {
   "cell_type": "code",
   "execution_count": 56,
   "metadata": {},
   "outputs": [
    {
     "data": {
      "text/plain": [
       "((411, 11), (203, 11), (411, 1), (203, 1))"
      ]
     },
     "execution_count": 56,
     "metadata": {},
     "output_type": "execute_result"
    }
   ],
   "source": [
    "xtrain.shape, xtest.shape, ytrain.shape, ytest.shape"
   ]
  },
  {
   "cell_type": "code",
   "execution_count": 57,
   "metadata": {},
   "outputs": [],
   "source": [
    "### Applying SMOTE technique to balance the data \n",
    "## pip install imblearn\n",
    "from imblearn.over_sampling import SMOTE\n",
    "\n",
    "smote = SMOTE(sampling_strategy = 'minority')\n",
    "x_sm , y_sm = smote.fit_resample(x,y)\n",
    "\n"
   ]
  },
  {
   "cell_type": "code",
   "execution_count": 58,
   "metadata": {},
   "outputs": [
    {
     "data": {
      "text/plain": [
       "(1    422\n",
       " 0    192\n",
       " dtype: int64,\n",
       " 1    422\n",
       " 0    422\n",
       " dtype: int64)"
      ]
     },
     "execution_count": 58,
     "metadata": {},
     "output_type": "execute_result"
    }
   ],
   "source": [
    "y.value_counts(),  y_sm.value_counts()"
   ]
  },
  {
   "cell_type": "code",
   "execution_count": 59,
   "metadata": {},
   "outputs": [],
   "source": [
    "x_train, x_test, y_train, y_test = train_test_split(x_sm, y_sm, test_size = 0.33, random_state= 40)"
   ]
  },
  {
   "cell_type": "code",
   "execution_count": 60,
   "metadata": {},
   "outputs": [
    {
     "data": {
      "text/plain": [
       "((565, 11), (565, 1), (279, 11), (279, 1))"
      ]
     },
     "execution_count": 60,
     "metadata": {},
     "output_type": "execute_result"
    }
   ],
   "source": [
    "x_train.shape, y_train.shape, x_test.shape, y_test.shape"
   ]
  },
  {
   "cell_type": "code",
   "execution_count": 61,
   "metadata": {},
   "outputs": [
    {
     "data": {
      "text/plain": [
       "1    140\n",
       "0     63\n",
       "dtype: int64"
      ]
     },
     "execution_count": 61,
     "metadata": {},
     "output_type": "execute_result"
    }
   ],
   "source": [
    "ytest.value_counts()"
   ]
  },
  {
   "cell_type": "code",
   "execution_count": 62,
   "metadata": {},
   "outputs": [],
   "source": [
    "y_test = pd.DataFrame({'Loan_status': y_test.iloc[:,0]})"
   ]
  },
  {
   "cell_type": "markdown",
   "metadata": {},
   "source": [
    "##### We are building multiple models using different ML algorithms\n",
    "1. KNN method\n",
    "2. Decision Tree method\n",
    "3. Logistic Regression \n",
    "4. Ensemble Techniques\n",
    "5. XGBM and LGBM\n",
    "6. SVM\n",
    "7. Neural Networks"
   ]
  },
  {
   "cell_type": "markdown",
   "metadata": {},
   "source": [
    "## K-Nearest Neighbors Method"
   ]
  },
  {
   "cell_type": "code",
   "execution_count": 75,
   "metadata": {},
   "outputs": [
    {
     "name": "stdout",
     "output_type": "stream",
     "text": [
      "0.8207885304659498\n",
      "              precision    recall  f1-score   support\n",
      "\n",
      "           0       0.79      0.88      0.83       138\n",
      "           1       0.86      0.77      0.81       141\n",
      "\n",
      "    accuracy                           0.82       279\n",
      "   macro avg       0.82      0.82      0.82       279\n",
      "weighted avg       0.83      0.82      0.82       279\n",
      "\n",
      "              precision    recall  f1-score   support\n",
      "\n",
      "           0       0.45      0.37      0.41       138\n",
      "           1       0.48      0.56      0.51       141\n",
      "\n",
      "    accuracy                           0.47       279\n",
      "   macro avg       0.46      0.46      0.46       279\n",
      "weighted avg       0.46      0.47      0.46       279\n",
      "\n"
     ]
    }
   ],
   "source": [
    "### KNN Technique\n",
    "model = KNeighborsClassifier()\n",
    "model.fit(x_sm, y_sm)\n",
    "y_predict = model.predict(x_test)  ## pediction for old data\n",
    "y_predict_new = model.predict(test)  ## prediction for new data\n",
    "print(accuracy_score(y_test, y_predict))\n",
    "print(classification_report(y_test, y_predict))  ## report for old data\n",
    "print(classification_report(y_test,  pd.DataFrame(y_predict_new).sample(279)))  ## report for new data"
   ]
  },
  {
   "cell_type": "markdown",
   "metadata": {},
   "source": [
    "#### Applying GridSearchCV to tune the parameters"
   ]
  },
  {
   "cell_type": "code",
   "execution_count": 82,
   "metadata": {},
   "outputs": [
    {
     "data": {
      "text/plain": [
       "GridSearchCV(estimator=KNeighborsClassifier(),\n",
       "             param_grid=[{'algorithm': ['auto', 'ball_tree', 'kd_tree',\n",
       "                                        'brute'],\n",
       "                          'leaf_size': [2, 5, 10, 15],\n",
       "                          'n_neighbors': range(2, 30), 'p': [1, 2],\n",
       "                          'weights': ['uniform', 'distance']}])"
      ]
     },
     "execution_count": 82,
     "metadata": {},
     "output_type": "execute_result"
    }
   ],
   "source": [
    "model_params = KNeighborsClassifier()\n",
    "params = [{'n_neighbors':range(2,30), 'weights': ['uniform','distance'],\n",
    "          'algorithm' : ['auto', 'ball_tree', 'kd_tree', 'brute'], 'leaf_size': [2,5,10,15],\n",
    "          'p':[1,2]}]\n",
    "grid_search = GridSearchCV(model_params, params,)\n",
    "grid_search.fit(x_train, y_train)"
   ]
  },
  {
   "cell_type": "code",
   "execution_count": 83,
   "metadata": {},
   "outputs": [
    {
     "data": {
      "text/plain": [
       "{'algorithm': 'auto',\n",
       " 'leaf_size': 2,\n",
       " 'n_neighbors': 2,\n",
       " 'p': 1,\n",
       " 'weights': 'distance'}"
      ]
     },
     "execution_count": 83,
     "metadata": {},
     "output_type": "execute_result"
    }
   ],
   "source": [
    "grid_search.best_params_"
   ]
  },
  {
   "cell_type": "code",
   "execution_count": 84,
   "metadata": {},
   "outputs": [
    {
     "name": "stdout",
     "output_type": "stream",
     "text": [
      "              precision    recall  f1-score   support\n",
      "\n",
      "           0       0.90      0.64      0.75       284\n",
      "           1       0.72      0.93      0.81       281\n",
      "\n",
      "    accuracy                           0.78       565\n",
      "   macro avg       0.81      0.78      0.78       565\n",
      "weighted avg       0.81      0.78      0.78       565\n",
      "\n",
      "              precision    recall  f1-score   support\n",
      "\n",
      "           0       0.91      0.72      0.80       138\n",
      "           1       0.77      0.93      0.84       141\n",
      "\n",
      "    accuracy                           0.82       279\n",
      "   macro avg       0.84      0.82      0.82       279\n",
      "weighted avg       0.84      0.82      0.82       279\n",
      "\n"
     ]
    }
   ],
   "source": [
    "### Building KNN model with best parameters\n",
    "\n",
    "model_best = KNeighborsClassifier(leaf_size= 2, n_neighbors= 4, p= 1, weights= 'distance')\n",
    "model_best.fit(xtrain, ytrain)\n",
    "y_pre = model_best.predict(x_train)\n",
    "y_pre_new = model_best.predict(x_test)\n",
    "print(classification_report(y_train, y_pre))\n",
    "print(classification_report(y_test, y_pre_new))"
   ]
  },
  {
   "cell_type": "code",
   "execution_count": 88,
   "metadata": {},
   "outputs": [
    {
     "data": {
      "image/png": "[encoded data removed]",
      "text/plain": [
       "<Figure size 432x288 with 1 Axes>"
      ]
     },
     "metadata": {
      "needs_background": "light"
     },
     "output_type": "display_data"
    }
   ],
   "source": [
    "k_range = range(1,40,2)\n",
    "k_trainscores = []\n",
    "k_testscores =[]\n",
    "for k in k_range:\n",
    "    knn = KNeighborsClassifier(n_neighbors = k, leaf_size= 2, p= 1, weights= 'distance')\n",
    "    scores_train = cross_val_score(knn, x_train, y_train, cv=10)\n",
    "    scores_test = cross_val_score(knn, x_test, y_test, cv = 10)\n",
    "    k_trainscores.append(scores_train.mean())\n",
    "    k_testscores.append(scores_test.mean())\n",
    "plt.plot(k_range, k_trainscores)\n",
    "plt.plot(k_range, k_testscores)\n",
    "plt.xlabel('value of k for KNN')\n",
    "plt.ylabel('Cross_validated accuracy')\n",
    "plt.show()"
   ]
  },
  {
   "cell_type": "code",
   "execution_count": 158,
   "metadata": {},
   "outputs": [
    {
     "name": "stdout",
     "output_type": "stream",
     "text": [
      "              precision    recall  f1-score   support\n",
      "\n",
      "           0       1.00      1.00      1.00       284\n",
      "           1       1.00      1.00      1.00       281\n",
      "\n",
      "    accuracy                           1.00       565\n",
      "   macro avg       1.00      1.00      1.00       565\n",
      "weighted avg       1.00      1.00      1.00       565\n",
      "\n",
      "              precision    recall  f1-score   support\n",
      "\n",
      "           0       0.67      0.82      0.74       138\n",
      "           1       0.77      0.60      0.68       141\n",
      "\n",
      "    accuracy                           0.71       279\n",
      "   macro avg       0.72      0.71      0.71       279\n",
      "weighted avg       0.72      0.71      0.71       279\n",
      "\n"
     ]
    }
   ],
   "source": [
    "model_KNN = KNeighborsClassifier(leaf_size = 2, n_neighbors = 15, p= 1, weights= 'distance')\n",
    "model_KNN.fit(x_train, y_train)\n",
    "\n",
    "y_pre = model_KNN.predict(x_train)\n",
    "score_train = cross_val_score(model_KNN, y_train , y_pre)\n",
    "    \n",
    "y_pre_new = model_KNN.predict(x_test)\n",
    "score_test = cross_val_score(model_KNN, y_test , y_pre_new)\n",
    "\n",
    "print(classification_report(y_train, y_pre))\n",
    "print(classification_report(y_test, y_pre_new))"
   ]
  },
  {
   "cell_type": "code",
   "execution_count": 159,
   "metadata": {},
   "outputs": [
    {
     "data": {
      "text/plain": [
       "(0.6214285714285714, 0.5814814814814814)"
      ]
     },
     "execution_count": 159,
     "metadata": {},
     "output_type": "execute_result"
    }
   ],
   "source": [
    "scores_train.mean(), scores_test.mean()"
   ]
  },
  {
   "cell_type": "code",
   "execution_count": 165,
   "metadata": {},
   "outputs": [
    {
     "name": "stdout",
     "output_type": "stream",
     "text": [
      "1.0 \n",
      " 0.7108387295713845\n"
     ]
    }
   ],
   "source": [
    "score_knn1 = roc_auc_score(y_train, y_pre)     \n",
    "score_knn2  =  roc_auc_score(y_test, y_pre_new)\n",
    "print(score_knn1, '\\n', score_knn2)"
   ]
  },
  {
   "cell_type": "code",
   "execution_count": 166,
   "metadata": {},
   "outputs": [
    {
     "data": {
      "text/plain": [
       "(array([[284,   0],\n",
       "        [  0, 281]], dtype=int64),\n",
       " array([[113,  25],\n",
       "        [ 56,  85]], dtype=int64))"
      ]
     },
     "execution_count": 166,
     "metadata": {},
     "output_type": "execute_result"
    }
   ],
   "source": [
    "confusion_matrix(y_train, y_pre),   confusion_matrix(y_test, y_pre_new)"
   ]
  },
  {
   "cell_type": "markdown",
   "metadata": {},
   "source": [
    "### Decision Tree Classifier"
   ]
  },
  {
   "cell_type": "code",
   "execution_count": 150,
   "metadata": {},
   "outputs": [
    {
     "name": "stdout",
     "output_type": "stream",
     "text": [
      "              precision    recall  f1-score   support\n",
      "\n",
      "           0       1.00      1.00      1.00       284\n",
      "           1       1.00      1.00      1.00       281\n",
      "\n",
      "    accuracy                           1.00       565\n",
      "   macro avg       1.00      1.00      1.00       565\n",
      "weighted avg       1.00      1.00      1.00       565\n",
      "\n",
      "Validation Mean F1 Score:  0.7583427219700426\n",
      "Validation Mean Accuracy:  0.7450501253132832\n"
     ]
    }
   ],
   "source": [
    "##  Decision Tree with training data\n",
    "\n",
    "tree = DecisionTreeClassifier()\n",
    "clf = tree.fit(x_train,y_train)\n",
    "y_pred = clf.predict(x_train)\n",
    "print(classification_report(y_train, y_pred))\n",
    "print(\"Validation Mean F1 Score: \",cross_val_score(clf,x_train,y_train,cv=10,scoring='f1_macro').mean())\n",
    "print(\"Validation Mean Accuracy: \",cross_val_score(clf,x_train,y_train,cv=10,scoring='accuracy').mean())"
   ]
  },
  {
   "cell_type": "code",
   "execution_count": 151,
   "metadata": {},
   "outputs": [
    {
     "data": {
      "text/html": [
       "<div>\n",
       "<style scoped>\n",
       "    .dataframe tbody tr th:only-of-type {\n",
       "        vertical-align: middle;\n",
       "    }\n",
       "\n",
       "    .dataframe tbody tr th {\n",
       "        vertical-align: top;\n",
       "    }\n",
       "\n",
       "    .dataframe thead th {\n",
       "        text-align: right;\n",
       "    }\n",
       "</style>\n",
       "<table border=\"1\" class=\"dataframe\">\n",
       "  <thead>\n",
       "    <tr style=\"text-align: right;\">\n",
       "      <th>col_0</th>\n",
       "      <th>0</th>\n",
       "      <th>1</th>\n",
       "    </tr>\n",
       "    <tr>\n",
       "      <th>Loan_Status</th>\n",
       "      <th></th>\n",
       "      <th></th>\n",
       "    </tr>\n",
       "  </thead>\n",
       "  <tbody>\n",
       "    <tr>\n",
       "      <th>0</th>\n",
       "      <td>284</td>\n",
       "      <td>0</td>\n",
       "    </tr>\n",
       "    <tr>\n",
       "      <th>1</th>\n",
       "      <td>0</td>\n",
       "      <td>281</td>\n",
       "    </tr>\n",
       "  </tbody>\n",
       "</table>\n",
       "</div>"
      ],
      "text/plain": [
       "col_0          0    1\n",
       "Loan_Status          \n",
       "0            284    0\n",
       "1              0  281"
      ]
     },
     "execution_count": 151,
     "metadata": {},
     "output_type": "execute_result"
    }
   ],
   "source": [
    "pd.crosstab(y_train.iloc[:,0], y_pred)"
   ]
  },
  {
   "cell_type": "code",
   "execution_count": 152,
   "metadata": {},
   "outputs": [
    {
     "data": {
      "text/plain": [
       "GridSearchCV(cv=10, estimator=DecisionTreeClassifier(random_state=0),\n",
       "             param_grid={'class_weight': ['balanced'],\n",
       "                         'criterion': ['gini', 'entropy'],\n",
       "                         'max_depth': [4, 6, 7, 8, 9, 10],\n",
       "                         'max_features': [3, 5, 7, 9, 11, 'auto'],\n",
       "                         'max_leaf_nodes': [2, 3, 4],\n",
       "                         'min_samples_split': [2, 5, 10, 20, 30]},\n",
       "             return_train_score=True, scoring='f1')"
      ]
     },
     "execution_count": 152,
     "metadata": {},
     "output_type": "execute_result"
    }
   ],
   "source": [
    "## Finding best parameters using GridSearchCV \n",
    "\n",
    "clf = DecisionTreeClassifier(random_state=0)\n",
    "params={'class_weight':['balanced'], \n",
    "        'max_features' : [3,5,7,9,11,'auto'],\n",
    "        'max_depth' : [4,6,7,8,9,10],\n",
    "        'criterion' :['gini','entropy'],\n",
    "        'min_samples_split' : [2,5,10,20,30],\n",
    "       'max_leaf_nodes': [2,3,4]}\n",
    "\n",
    "grid_search = GridSearchCV(estimator = clf, param_grid = params, cv = 10, scoring = 'f1', return_train_score=True,)\n",
    "grid_search.fit(x_train,y_train)"
   ]
  },
  {
   "cell_type": "code",
   "execution_count": 153,
   "metadata": {},
   "outputs": [
    {
     "data": {
      "text/plain": [
       "{'class_weight': 'balanced',\n",
       " 'criterion': 'gini',\n",
       " 'max_depth': 4,\n",
       " 'max_features': 9,\n",
       " 'max_leaf_nodes': 4,\n",
       " 'min_samples_split': 2}"
      ]
     },
     "execution_count": 153,
     "metadata": {},
     "output_type": "execute_result"
    }
   ],
   "source": [
    "grid_search.best_params_"
   ]
  },
  {
   "cell_type": "code",
   "execution_count": 98,
   "metadata": {},
   "outputs": [
    {
     "name": "stdout",
     "output_type": "stream",
     "text": [
      "              precision    recall  f1-score   support\n",
      "\n",
      "           0       0.98      0.61      0.75       284\n",
      "           1       0.71      0.99      0.83       281\n",
      "\n",
      "    accuracy                           0.80       565\n",
      "   macro avg       0.85      0.80      0.79       565\n",
      "weighted avg       0.85      0.80      0.79       565\n",
      "\n",
      "              precision    recall  f1-score   support\n",
      "\n",
      "           0       0.95      0.56      0.70       138\n",
      "           1       0.69      0.97      0.81       141\n",
      "\n",
      "    accuracy                           0.77       279\n",
      "   macro avg       0.82      0.76      0.76       279\n",
      "weighted avg       0.82      0.77      0.76       279\n",
      "\n"
     ]
    }
   ],
   "source": [
    "## Building Decision Tree with Best Parameters\n",
    "\n",
    "model_clf= DecisionTreeClassifier(class_weight = 'balanced', max_depth = 4,max_features = 9,\n",
    " max_leaf_nodes = 4,min_samples_split =  2)\n",
    "clf = model_clf.fit(x_train,y_train)\n",
    "y_pred_best = clf.predict(x_train)\n",
    "y_pred_test = clf.predict(x_test)\n",
    "\n",
    "print(classification_report(y_train, y_pred_best))\n",
    "print(classification_report(y_test, y_pred_test))"
   ]
  },
  {
   "cell_type": "code",
   "execution_count": 167,
   "metadata": {},
   "outputs": [
    {
     "data": {
      "text/plain": [
       "(0.7974600270663124, 0.7648011100832562)"
      ]
     },
     "execution_count": 167,
     "metadata": {},
     "output_type": "execute_result"
    }
   ],
   "source": [
    "score_clf1 = roc_auc_score(y_train, y_pred_best)\n",
    "score_clf2 = roc_auc_score(y_test, y_pred_test)\n",
    "score_clf1, score_clf2"
   ]
  },
  {
   "cell_type": "code",
   "execution_count": 100,
   "metadata": {},
   "outputs": [
    {
     "name": "stdout",
     "output_type": "stream",
     "text": [
      "Accuracy :  0.7964601769911505\n"
     ]
    },
    {
     "data": {
      "text/html": [
       "<div>\n",
       "<style scoped>\n",
       "    .dataframe tbody tr th:only-of-type {\n",
       "        vertical-align: middle;\n",
       "    }\n",
       "\n",
       "    .dataframe tbody tr th {\n",
       "        vertical-align: top;\n",
       "    }\n",
       "\n",
       "    .dataframe thead th {\n",
       "        text-align: right;\n",
       "    }\n",
       "</style>\n",
       "<table border=\"1\" class=\"dataframe\">\n",
       "  <thead>\n",
       "    <tr style=\"text-align: right;\">\n",
       "      <th>col_0</th>\n",
       "      <th>0</th>\n",
       "      <th>1</th>\n",
       "    </tr>\n",
       "    <tr>\n",
       "      <th>Loan_Status</th>\n",
       "      <th></th>\n",
       "      <th></th>\n",
       "    </tr>\n",
       "  </thead>\n",
       "  <tbody>\n",
       "    <tr>\n",
       "      <th>0</th>\n",
       "      <td>173</td>\n",
       "      <td>111</td>\n",
       "    </tr>\n",
       "    <tr>\n",
       "      <th>1</th>\n",
       "      <td>4</td>\n",
       "      <td>277</td>\n",
       "    </tr>\n",
       "  </tbody>\n",
       "</table>\n",
       "</div>"
      ],
      "text/plain": [
       "col_0          0    1\n",
       "Loan_Status          \n",
       "0            173  111\n",
       "1              4  277"
      ]
     },
     "execution_count": 100,
     "metadata": {},
     "output_type": "execute_result"
    }
   ],
   "source": [
    "print('Accuracy : ',accuracy_score(y_train, y_pred_best))\n",
    "pd.crosstab(y_train.iloc[:,0], y_pred_best)"
   ]
  },
  {
   "cell_type": "code",
   "execution_count": 101,
   "metadata": {},
   "outputs": [
    {
     "name": "stdout",
     "output_type": "stream",
     "text": [
      "Accuracy: 0.7670250896057348\n"
     ]
    },
    {
     "data": {
      "text/html": [
       "<div>\n",
       "<style scoped>\n",
       "    .dataframe tbody tr th:only-of-type {\n",
       "        vertical-align: middle;\n",
       "    }\n",
       "\n",
       "    .dataframe tbody tr th {\n",
       "        vertical-align: top;\n",
       "    }\n",
       "\n",
       "    .dataframe thead th {\n",
       "        text-align: right;\n",
       "    }\n",
       "</style>\n",
       "<table border=\"1\" class=\"dataframe\">\n",
       "  <thead>\n",
       "    <tr style=\"text-align: right;\">\n",
       "      <th>col_0</th>\n",
       "      <th>0</th>\n",
       "      <th>1</th>\n",
       "    </tr>\n",
       "    <tr>\n",
       "      <th>Loan_status</th>\n",
       "      <th></th>\n",
       "      <th></th>\n",
       "    </tr>\n",
       "  </thead>\n",
       "  <tbody>\n",
       "    <tr>\n",
       "      <th>0</th>\n",
       "      <td>77</td>\n",
       "      <td>61</td>\n",
       "    </tr>\n",
       "    <tr>\n",
       "      <th>1</th>\n",
       "      <td>4</td>\n",
       "      <td>137</td>\n",
       "    </tr>\n",
       "  </tbody>\n",
       "</table>\n",
       "</div>"
      ],
      "text/plain": [
       "col_0         0    1\n",
       "Loan_status         \n",
       "0            77   61\n",
       "1             4  137"
      ]
     },
     "execution_count": 101,
     "metadata": {},
     "output_type": "execute_result"
    }
   ],
   "source": [
    "print('Accuracy:',accuracy_score(y_test, y_pred_test))\n",
    "pd.crosstab(y_test.iloc[:,0], y_pred_test)"
   ]
  },
  {
   "cell_type": "markdown",
   "metadata": {},
   "source": [
    "## Logistic Regression"
   ]
  },
  {
   "cell_type": "code",
   "execution_count": 102,
   "metadata": {},
   "outputs": [
    {
     "data": {
      "text/plain": [
       "GridSearchCV(cv=10, estimator=LogisticRegression(), n_jobs=4,\n",
       "             param_grid={'C': [0.001, 0.01, 0.1, 1, 5, 10, 15],\n",
       "                         'max_iter': [50, 100, 150, 200],\n",
       "                         'penalty': ['l1', 'l2'],\n",
       "                         'solver': ['liblinear', 'lbfgs', 'liblinear',\n",
       "                                    'newton-cg', 'sag', 'saga']})"
      ]
     },
     "execution_count": 102,
     "metadata": {},
     "output_type": "execute_result"
    }
   ],
   "source": [
    "model = LogisticRegression()\n",
    "params = {'C':[0.001,0.01,0.1,1,5,10,15],\n",
    "       'penalty':['l1','l2'],\n",
    "        'solver':['liblinear','lbfgs','liblinear','newton-cg','sag', 'saga'],\n",
    "          'max_iter':[50,100,150,200]}\n",
    "gridsv = GridSearchCV(model,  params , n_jobs=4, cv=10)\n",
    "gridsv.fit(x_train,y_train)"
   ]
  },
  {
   "cell_type": "code",
   "execution_count": 103,
   "metadata": {},
   "outputs": [
    {
     "data": {
      "text/plain": [
       "({'C': 0.1, 'max_iter': 50, 'penalty': 'l1', 'solver': 'liblinear'},\n",
       " 0.7698308270676691)"
      ]
     },
     "execution_count": 103,
     "metadata": {},
     "output_type": "execute_result"
    }
   ],
   "source": [
    "gridsv.best_params_, gridsv.best_score_"
   ]
  },
  {
   "cell_type": "code",
   "execution_count": 104,
   "metadata": {},
   "outputs": [
    {
     "data": {
      "text/plain": [
       "(0.768141592920354, 0.7456493506493506)"
      ]
     },
     "execution_count": 104,
     "metadata": {},
     "output_type": "execute_result"
    }
   ],
   "source": [
    "## Building model with Best parameters\n",
    "\n",
    "model_LR = LogisticRegression(C = 0.1, max_iter= 50, penalty= 'l1', solver= 'liblinear', random_state = 100)\n",
    "model_LR.fit(x_train,y_train)\n",
    "\n",
    "score_train = cross_val_score(model_LR, x_train, y_train)\n",
    "score_test = cross_val_score(model_LR, x_test, y_test)\n",
    "score_train.mean(), score_test.mean()"
   ]
  },
  {
   "cell_type": "code",
   "execution_count": 169,
   "metadata": {},
   "outputs": [
    {
     "name": "stdout",
     "output_type": "stream",
     "text": [
      "              precision    recall  f1-score   support\n",
      "\n",
      "           0       0.98      0.56      0.71       284\n",
      "           1       0.69      0.99      0.81       281\n",
      "\n",
      "    accuracy                           0.77       565\n",
      "   macro avg       0.83      0.77      0.76       565\n",
      "weighted avg       0.83      0.77      0.76       565\n",
      "\n",
      "              precision    recall  f1-score   support\n",
      "\n",
      "           0       0.96      0.53      0.68       138\n",
      "           1       0.68      0.98      0.80       141\n",
      "\n",
      "    accuracy                           0.76       279\n",
      "   macro avg       0.82      0.75      0.74       279\n",
      "weighted avg       0.82      0.76      0.74       279\n",
      "\n"
     ]
    }
   ],
   "source": [
    "y_pred_tr = model_LR.predict(x_train)\n",
    "y_pred_tst = model_LR.predict(x_test)\n",
    "\n",
    "print(classification_report(y_train, y_pred_tr))\n",
    "print(classification_report(y_test, y_pred_tst))"
   ]
  },
  {
   "cell_type": "code",
   "execution_count": 170,
   "metadata": {},
   "outputs": [
    {
     "data": {
      "text/plain": [
       "(0.7710515763620871, 0.7538544557508479)"
      ]
     },
     "execution_count": 170,
     "metadata": {},
     "output_type": "execute_result"
    }
   ],
   "source": [
    "score_LR1 = roc_auc_score(y_train, y_pred_tr)\n",
    "score_LR2 = roc_auc_score(y_test, y_pred_tst)\n",
    "score_LR1, score_LR2"
   ]
  },
  {
   "cell_type": "code",
   "execution_count": 107,
   "metadata": {},
   "outputs": [
    {
     "name": "stdout",
     "output_type": "stream",
     "text": [
      "Accuracy of training data:  0.7699115044247787\n"
     ]
    },
    {
     "data": {
      "text/html": [
       "<div>\n",
       "<style scoped>\n",
       "    .dataframe tbody tr th:only-of-type {\n",
       "        vertical-align: middle;\n",
       "    }\n",
       "\n",
       "    .dataframe tbody tr th {\n",
       "        vertical-align: top;\n",
       "    }\n",
       "\n",
       "    .dataframe thead th {\n",
       "        text-align: right;\n",
       "    }\n",
       "</style>\n",
       "<table border=\"1\" class=\"dataframe\">\n",
       "  <thead>\n",
       "    <tr style=\"text-align: right;\">\n",
       "      <th>col_0</th>\n",
       "      <th>0</th>\n",
       "      <th>1</th>\n",
       "    </tr>\n",
       "    <tr>\n",
       "      <th>Loan_Status</th>\n",
       "      <th></th>\n",
       "      <th></th>\n",
       "    </tr>\n",
       "  </thead>\n",
       "  <tbody>\n",
       "    <tr>\n",
       "      <th>0</th>\n",
       "      <td>158</td>\n",
       "      <td>126</td>\n",
       "    </tr>\n",
       "    <tr>\n",
       "      <th>1</th>\n",
       "      <td>4</td>\n",
       "      <td>277</td>\n",
       "    </tr>\n",
       "  </tbody>\n",
       "</table>\n",
       "</div>"
      ],
      "text/plain": [
       "col_0          0    1\n",
       "Loan_Status          \n",
       "0            158  126\n",
       "1              4  277"
      ]
     },
     "execution_count": 107,
     "metadata": {},
     "output_type": "execute_result"
    }
   ],
   "source": [
    "print('Accuracy of training data: ',accuracy_score(y_train, y_pred_tr))\n",
    "pd.crosstab(y_train.iloc[:,0], y_pred_tr)"
   ]
  },
  {
   "cell_type": "code",
   "execution_count": 108,
   "metadata": {},
   "outputs": [
    {
     "name": "stdout",
     "output_type": "stream",
     "text": [
      "Accuracy of testing data:  0.7562724014336918\n"
     ]
    },
    {
     "data": {
      "text/plain": [
       "array([[ 73,  65],\n",
       "       [  3, 138]], dtype=int64)"
      ]
     },
     "execution_count": 108,
     "metadata": {},
     "output_type": "execute_result"
    }
   ],
   "source": [
    "print('Accuracy of testing data: ',accuracy_score(y_test, y_pred_tst))\n",
    "confusion_matrix(y_test,y_pred_tst)"
   ]
  },
  {
   "cell_type": "markdown",
   "metadata": {},
   "source": [
    "## Ensemble Techniques"
   ]
  },
  {
   "cell_type": "markdown",
   "metadata": {},
   "source": [
    "#### 1. Bagging method"
   ]
  },
  {
   "cell_type": "code",
   "execution_count": 166,
   "metadata": {},
   "outputs": [
    {
     "data": {
      "text/plain": [
       "GridSearchCV(estimator=BaggingClassifier(),\n",
       "             param_grid=[{'base_estimator': [DecisionTreeClassifier(class_weight='balanced',\n",
       "                                                                    max_depth=4,\n",
       "                                                                    max_features=9,\n",
       "                                                                    max_leaf_nodes=4),\n",
       "                                             LogisticRegression(C=10,\n",
       "                                                                max_iter=50,\n",
       "                                                                random_state=40)],\n",
       "                          'n_estimators': [100, 200, 300, 400, 500, 600]}])"
      ]
     },
     "execution_count": 166,
     "metadata": {},
     "output_type": "execute_result"
    }
   ],
   "source": [
    "## Using GridSearchCv for finding the best parameters\n",
    "\n",
    "n_trees = [100,200,300,400,500,600]\n",
    "model_cart = DecisionTreeClassifier(class_weight = 'balanced', max_depth = 4,max_features = 9,\n",
    " max_leaf_nodes = 4,min_samples_split =  2)\n",
    "model2 = LogisticRegression(C = 10, max_iter= 50, penalty= 'l2', solver= 'lbfgs', random_state = 40)\n",
    "params = [{'base_estimator':[model_cart,model2],'n_estimators':n_trees}]\n",
    "bagging_model = BaggingClassifier()\n",
    "grid = GridSearchCV(bagging_model,params)\n",
    "grid.fit(x_train, y_train)"
   ]
  },
  {
   "cell_type": "code",
   "execution_count": 167,
   "metadata": {},
   "outputs": [
    {
     "data": {
      "text/plain": [
       "(0.8212389380530973,\n",
       " {'base_estimator': DecisionTreeClassifier(class_weight='balanced', max_depth=4, max_features=9,\n",
       "                         max_leaf_nodes=4),\n",
       "  'n_estimators': 500})"
      ]
     },
     "execution_count": 167,
     "metadata": {},
     "output_type": "execute_result"
    }
   ],
   "source": [
    "grid.best_score_,  grid.best_params_ "
   ]
  },
  {
   "cell_type": "code",
   "execution_count": 110,
   "metadata": {},
   "outputs": [
    {
     "name": "stdout",
     "output_type": "stream",
     "text": [
      "0.8247493734335839 0.7744708994708995\n"
     ]
    }
   ],
   "source": [
    "kfold = KFold(n_splits = 10, random_state = 40, shuffle = True)\n",
    "cart = DecisionTreeClassifier(class_weight ='balanced',max_depth = 4, max_features=9, max_leaf_nodes = 4)\n",
    "\n",
    "from sklearn.ensemble import BaggingClassifier\n",
    "num_trees = 100\n",
    "bagclf = BaggingClassifier(base_estimator = cart, n_estimators = num_trees)\n",
    "model_bagclf = bagclf.fit(x_train, y_train)\n",
    "scores = cross_val_score(model_bagclf, x_train, y_train, cv = kfold)\n",
    "scores_tst = cross_val_score(model_bagclf, x_test, y_test, cv = kfold)\n",
    "print(scores.mean(),  scores_tst.mean())"
   ]
  },
  {
   "cell_type": "code",
   "execution_count": 172,
   "metadata": {},
   "outputs": [
    {
     "name": "stdout",
     "output_type": "stream",
     "text": [
      "              precision    recall  f1-score   support\n",
      "\n",
      "           0       0.98      0.68      0.80       284\n",
      "           1       0.75      0.99      0.85       281\n",
      "\n",
      "    accuracy                           0.83       565\n",
      "   macro avg       0.87      0.83      0.83       565\n",
      "weighted avg       0.87      0.83      0.83       565\n",
      "\n",
      "              precision    recall  f1-score   support\n",
      "\n",
      "           0       0.97      0.64      0.77       138\n",
      "           1       0.73      0.98      0.84       141\n",
      "\n",
      "    accuracy                           0.81       279\n",
      "   macro avg       0.85      0.81      0.80       279\n",
      "weighted avg       0.85      0.81      0.80       279\n",
      "\n"
     ]
    }
   ],
   "source": [
    "y_pre = model_bagclf.predict(x_train)\n",
    "y_pre_tst = model_bagclf.predict(x_test)\n",
    "print(classification_report(y_train, y_pre))\n",
    "print(classification_report(y_test, y_pre_tst))"
   ]
  },
  {
   "cell_type": "code",
   "execution_count": 173,
   "metadata": {},
   "outputs": [
    {
     "data": {
      "text/plain": [
       "(0.8326712946719463, 0.8082022818378044)"
      ]
     },
     "execution_count": 173,
     "metadata": {},
     "output_type": "execute_result"
    }
   ],
   "source": [
    "score_bag1 = roc_auc_score(y_train, y_pre)\n",
    "score_bag2 = roc_auc_score(y_test, y_pre_tst)\n",
    "score_bag1, score_bag2"
   ]
  },
  {
   "cell_type": "code",
   "execution_count": 114,
   "metadata": {},
   "outputs": [
    {
     "name": "stdout",
     "output_type": "stream",
     "text": [
      "Accuracy of training data: 0.831858407079646\n",
      "Accuracy of testing data:  0.8100358422939068\n"
     ]
    },
    {
     "data": {
      "text/plain": [
       "(array([[193,  91],\n",
       "        [  4, 277]], dtype=int64),\n",
       " array([[ 88,  50],\n",
       "        [  3, 138]], dtype=int64))"
      ]
     },
     "execution_count": 114,
     "metadata": {},
     "output_type": "execute_result"
    }
   ],
   "source": [
    "print('Accuracy of training data:', accuracy_score(y_train, y_pre))\n",
    "print('Accuracy of testing data: ',accuracy_score(y_test, y_pre_tst))\n",
    "confusion_matrix(y_train, y_pre),   confusion_matrix(y_test,y_pre_tst)"
   ]
  },
  {
   "cell_type": "markdown",
   "metadata": {},
   "source": [
    "#### 2. RandomForest"
   ]
  },
  {
   "cell_type": "code",
   "execution_count": 172,
   "metadata": {},
   "outputs": [
    {
     "data": {
      "text/plain": [
       "GridSearchCV(estimator=RandomForestClassifier(random_state=100), n_jobs=4,\n",
       "             param_grid=[{'class_weight': ['balanced', 'balanced_subsample'],\n",
       "                          'max_depth': [4], 'max_features': [9],\n",
       "                          'n_estimators': [100, 200, 300, 400, 500, 600]}])"
      ]
     },
     "execution_count": 172,
     "metadata": {},
     "output_type": "execute_result"
    }
   ],
   "source": [
    "\n",
    "\n",
    "n_trees = [100,200,300,400,500,600]\n",
    "params = [{'n_estimators':n_trees,'class_weight': ['balanced', 'balanced_subsample'],\n",
    "           'max_depth' : [4], 'max_features': [9] }]\n",
    "random_model = RandomForestClassifier(random_state = 100)\n",
    "grid = GridSearchCV(random_model,params, n_jobs = 4)\n",
    "grid.fit(x_train, y_train)\n"
   ]
  },
  {
   "cell_type": "code",
   "execution_count": 173,
   "metadata": {},
   "outputs": [
    {
     "data": {
      "text/plain": [
       "(0.8300884955752211,\n",
       " {'class_weight': 'balanced_subsample',\n",
       "  'max_depth': 4,\n",
       "  'max_features': 9,\n",
       "  'n_estimators': 100})"
      ]
     },
     "execution_count": 173,
     "metadata": {},
     "output_type": "execute_result"
    }
   ],
   "source": [
    "grid.best_score_,   grid.best_params_"
   ]
  },
  {
   "cell_type": "code",
   "execution_count": 117,
   "metadata": {},
   "outputs": [
    {
     "name": "stdout",
     "output_type": "stream",
     "text": [
      "0.8300751879699249\n"
     ]
    }
   ],
   "source": [
    "\n",
    "model_rfc = RandomForestClassifier(class_weight= 'balanced_subsample',max_depth= 4,max_features= 9,n_estimators= 100)\n",
    "model_rfc.fit(x_train, y_train)\n",
    "results = cross_val_score(model_rfc, x_train, y_train, cv=kfold)\n",
    "print(results.mean())"
   ]
  },
  {
   "cell_type": "code",
   "execution_count": 175,
   "metadata": {},
   "outputs": [
    {
     "name": "stdout",
     "output_type": "stream",
     "text": [
      "              precision    recall  f1-score   support\n",
      "\n",
      "           0       0.98      0.68      0.80       284\n",
      "           1       0.75      0.99      0.85       281\n",
      "\n",
      "    accuracy                           0.83       565\n",
      "   macro avg       0.87      0.83      0.83       565\n",
      "weighted avg       0.87      0.83      0.83       565\n",
      "\n",
      "              precision    recall  f1-score   support\n",
      "\n",
      "           0       0.97      0.64      0.77       138\n",
      "           1       0.73      0.98      0.84       141\n",
      "\n",
      "    accuracy                           0.81       279\n",
      "   macro avg       0.85      0.81      0.80       279\n",
      "weighted avg       0.85      0.81      0.80       279\n",
      "\n"
     ]
    }
   ],
   "source": [
    "y_pred = model_rfc.predict(x_train)\n",
    "y_pred_tst = model_rfc.predict(x_test)\n",
    "print(classification_report(y_train, y_pre))\n",
    "print(classification_report(y_test, y_pre_tst))"
   ]
  },
  {
   "cell_type": "code",
   "execution_count": 176,
   "metadata": {},
   "outputs": [
    {
     "data": {
      "text/plain": [
       "(0.846774597764523, 0.8046561825470242)"
      ]
     },
     "execution_count": 176,
     "metadata": {},
     "output_type": "execute_result"
    }
   ],
   "source": [
    "score_rfc1 = roc_auc_score(y_train, y_pred)\n",
    "score_rfc2 = roc_auc_score(y_test, y_pred_tst)\n",
    "score_rfc1, score_rfc2"
   ]
  },
  {
   "cell_type": "code",
   "execution_count": 123,
   "metadata": {},
   "outputs": [
    {
     "name": "stdout",
     "output_type": "stream",
     "text": [
      "Accuracy of training data: 0.8460176991150442\n",
      "Accuracy of testing data:  0.8064516129032258\n"
     ]
    },
    {
     "data": {
      "text/plain": [
       "(array([[200,  84],\n",
       "        [  3, 278]], dtype=int64),\n",
       " array([[ 88,  50],\n",
       "        [  4, 137]], dtype=int64))"
      ]
     },
     "execution_count": 123,
     "metadata": {},
     "output_type": "execute_result"
    }
   ],
   "source": [
    "print('Accuracy of training data:', accuracy_score(y_train, y_pred))\n",
    "print('Accuracy of testing data: ',accuracy_score(y_test, y_pred_tst))\n",
    "confusion_matrix(y_train, y_pred),   confusion_matrix(y_test,y_pred_tst)"
   ]
  },
  {
   "cell_type": "markdown",
   "metadata": {},
   "source": [
    "##### 3. AdaBoost classifier"
   ]
  },
  {
   "cell_type": "code",
   "execution_count": 179,
   "metadata": {},
   "outputs": [
    {
     "data": {
      "text/plain": [
       "GridSearchCV(estimator=AdaBoostClassifier(random_state=40), n_jobs=4,\n",
       "             param_grid={'algorithm': ['SAMME', 'SAMME.'],\n",
       "                         'base_estimator': [DecisionTreeClassifier(class_weight='balanced',\n",
       "                                                                   max_depth=4,\n",
       "                                                                   max_features=9,\n",
       "                                                                   max_leaf_nodes=4,\n",
       "                                                                   random_state=40),\n",
       "                                            LogisticRegression(C=0.1,\n",
       "                                                               max_iter=50,\n",
       "                                                               penalty='l1',\n",
       "                                                               solver='liblinear')],\n",
       "                         'learning_rate': [0.01, 0.1, 1.5, 2],\n",
       "                         'n_estimators': [50, 100, 150, 200, 500, 700]})"
      ]
     },
     "execution_count": 179,
     "metadata": {},
     "output_type": "execute_result"
    }
   ],
   "source": [
    "tree = DecisionTreeClassifier(random_state = 40, class_weight ='balanced',max_depth = 4, max_features=9, max_leaf_nodes = 4)\n",
    "LR = LogisticRegression(C = 0.1, max_iter= 50, penalty= 'l1', solver= 'liblinear')\n",
    "n_trees = [50,100,150,200,500,700]\n",
    "params = ({'n_estimators': n_trees,'learning_rate':[0.01,0.1,1.5,2],'base_estimator':[tree,LR],\n",
    "          'algorithm' :['SAMME', 'SAMME.']})\n",
    "ada_boost = AdaBoostClassifier(random_state = 40)\n",
    "grid_ada = GridSearchCV(ada_boost, params, n_jobs = 4)\n",
    "grid_ada.fit(x_train, y_train)"
   ]
  },
  {
   "cell_type": "code",
   "execution_count": 180,
   "metadata": {},
   "outputs": [
    {
     "data": {
      "text/plain": [
       "(0.8353982300884957,\n",
       " {'algorithm': 'SAMME',\n",
       "  'base_estimator': DecisionTreeClassifier(class_weight='balanced', max_depth=4, max_features=9,\n",
       "                         max_leaf_nodes=4, random_state=40),\n",
       "  'learning_rate': 0.1,\n",
       "  'n_estimators': 700})"
      ]
     },
     "execution_count": 180,
     "metadata": {},
     "output_type": "execute_result"
    }
   ],
   "source": [
    "grid_ada.best_score_,     grid_ada.best_params_"
   ]
  },
  {
   "cell_type": "code",
   "execution_count": 181,
   "metadata": {},
   "outputs": [
    {
     "name": "stdout",
     "output_type": "stream",
     "text": [
      "Training score: 0.8281954887218046\n",
      "Testing_score: 0.7849206349206349\n"
     ]
    }
   ],
   "source": [
    "model_ada = AdaBoostClassifier(algorithm= 'SAMME',base_estimator=tree,learning_rate= 0.01,n_estimators= 500)\n",
    "model_ada = model_ada.fit(x_train, y_train)\n",
    "print('Training score:', cross_val_score(model_ada, x_train, y_train, cv=kfold).mean())\n",
    "print('Testing_score:', cross_val_score(model_ada, x_test, y_test, cv=kfold).mean())"
   ]
  },
  {
   "cell_type": "code",
   "execution_count": 182,
   "metadata": {},
   "outputs": [
    {
     "name": "stdout",
     "output_type": "stream",
     "text": [
      "              precision    recall  f1-score   support\n",
      "\n",
      "           0       0.98      0.70      0.82       284\n",
      "           1       0.77      0.99      0.86       281\n",
      "\n",
      "    accuracy                           0.84       565\n",
      "   macro avg       0.87      0.84      0.84       565\n",
      "weighted avg       0.87      0.84      0.84       565\n",
      "\n",
      "              precision    recall  f1-score   support\n",
      "\n",
      "           0       0.96      0.64      0.77       138\n",
      "           1       0.73      0.97      0.84       141\n",
      "\n",
      "    accuracy                           0.81       279\n",
      "   macro avg       0.84      0.80      0.80       279\n",
      "weighted avg       0.84      0.81      0.80       279\n",
      "\n"
     ]
    }
   ],
   "source": [
    "y_predict = model_ada.predict(x_train)\n",
    "y_predict_tst = model_ada.predict(x_test)\n",
    "print(classification_report(y_train, y_predict))\n",
    "print(classification_report(y_test, y_predict_tst))"
   ]
  },
  {
   "cell_type": "code",
   "execution_count": 183,
   "metadata": {},
   "outputs": [
    {
     "data": {
      "text/plain": [
       "(0.8432346749536366, 0.8046561825470242)"
      ]
     },
     "execution_count": 183,
     "metadata": {},
     "output_type": "execute_result"
    }
   ],
   "source": [
    "score_ada1 = roc_auc_score(y_train, y_predict)\n",
    "score_ada2 = roc_auc_score(y_test, y_predict_tst)\n",
    "score_ada1, score_ada2"
   ]
  },
  {
   "cell_type": "code",
   "execution_count": 184,
   "metadata": {},
   "outputs": [
    {
     "name": "stdout",
     "output_type": "stream",
     "text": [
      "Accuracy of training data: 0.8424778761061947\n",
      "Accuracy of testing data:  0.8064516129032258\n"
     ]
    },
    {
     "data": {
      "text/plain": [
       "(array([[199,  85],\n",
       "        [  4, 277]], dtype=int64),\n",
       " array([[ 88,  50],\n",
       "        [  4, 137]], dtype=int64))"
      ]
     },
     "execution_count": 184,
     "metadata": {},
     "output_type": "execute_result"
    }
   ],
   "source": [
    "print('Accuracy of training data:', accuracy_score(y_train, y_predict))\n",
    "print('Accuracy of testing data: ',accuracy_score(y_test, y_predict_tst))\n",
    "confusion_matrix(y_train, y_predict),   confusion_matrix(y_test,y_predict_tst)"
   ]
  },
  {
   "cell_type": "markdown",
   "metadata": {},
   "source": [
    "##### 4. Gradient Boosting Classifier"
   ]
  },
  {
   "cell_type": "code",
   "execution_count": 233,
   "metadata": {},
   "outputs": [
    {
     "data": {
      "text/plain": [
       "GridSearchCV(estimator=GradientBoostingClassifier(random_state=40), n_jobs=4,\n",
       "             param_grid=[{'criterion': ['friedman_mse', 'mse', 'mae'],\n",
       "                          'learning_rate': [0.01, 0.1, 1],\n",
       "                          'max_depth': [3, 5, 7, 9],\n",
       "                          'max_features': ['auto', 'sqrt', 'log2'],\n",
       "                          'min_samples_split': [10, 20, 30, 50],\n",
       "                          'n_estimators': [3, 5, 7, 9, 11, 15]}])"
      ]
     },
     "execution_count": 233,
     "metadata": {},
     "output_type": "execute_result"
    }
   ],
   "source": [
    "lr_rat = [0.01,0.1,1]\n",
    "\n",
    "cri = ['friedman_mse', 'mse', 'mae']\n",
    "mx_dpt = [3,5,7,9]\n",
    "fea = ['auto', 'sqrt', 'log2']\n",
    "params = [{'learning_rate':lr_rat,'criterion':cri,'max_depth':mx_dpt,'min_samples_split':[10,20,30,50],\n",
    "              'max_features':fea,'n_estimators':[3,5,7,9,11,15]}]\n",
    "model_gbc = GradientBoostingClassifier(random_state=40)\n",
    "grid_gbc = GridSearchCV(model_gbc,params,n_jobs = 4)\n",
    "grid_gbc.fit(x_train, y_train)"
   ]
  },
  {
   "cell_type": "code",
   "execution_count": 234,
   "metadata": {},
   "outputs": [
    {
     "data": {
      "text/plain": [
       "(0.8442477876106194,\n",
       " {'criterion': 'friedman_mse',\n",
       "  'learning_rate': 0.1,\n",
       "  'max_depth': 9,\n",
       "  'max_features': 'sqrt',\n",
       "  'min_samples_split': 50,\n",
       "  'n_estimators': 15})"
      ]
     },
     "execution_count": 234,
     "metadata": {},
     "output_type": "execute_result"
    }
   ],
   "source": [
    "grid_gbc.best_score_,     grid_gbc.best_params_"
   ]
  },
  {
   "cell_type": "code",
   "execution_count": 209,
   "metadata": {},
   "outputs": [
    {
     "name": "stdout",
     "output_type": "stream",
     "text": [
      "Training score: 0.8370614035087719\n",
      "Testing_score: 0.8029100529100528\n"
     ]
    }
   ],
   "source": [
    "model_gbc = GradientBoostingClassifier(criterion= 'friedman_mse', learning_rate= 0.1, max_depth= 9,\n",
    "max_features= 'sqrt', min_samples_split= 50, n_estimators= 15)\n",
    "model_gbc = model_gbc.fit(x_train, y_train)\n",
    "print('Training score:', cross_val_score(model_gbc, x_train, y_train, cv=kfold).mean())\n",
    "print('Testing_score:', cross_val_score(model_gbc, x_test, y_test, cv=kfold).mean())"
   ]
  },
  {
   "cell_type": "code",
   "execution_count": 210,
   "metadata": {},
   "outputs": [
    {
     "name": "stdout",
     "output_type": "stream",
     "text": [
      "              precision    recall  f1-score   support\n",
      "\n",
      "           0       0.98      0.85      0.91       284\n",
      "           1       0.86      0.98      0.92       281\n",
      "\n",
      "    accuracy                           0.91       565\n",
      "   macro avg       0.92      0.91      0.91       565\n",
      "weighted avg       0.92      0.91      0.91       565\n",
      "\n",
      "              precision    recall  f1-score   support\n",
      "\n",
      "           0       0.90      0.70      0.79       138\n",
      "           1       0.76      0.92      0.83       141\n",
      "\n",
      "    accuracy                           0.81       279\n",
      "   macro avg       0.83      0.81      0.81       279\n",
      "weighted avg       0.83      0.81      0.81       279\n",
      "\n"
     ]
    }
   ],
   "source": [
    "y_predict = model_gbc.predict(x_train)\n",
    "y_predict_tst = model_gbc.predict(x_test)\n",
    "print(classification_report(y_train, y_predict))\n",
    "print(classification_report(y_test, y_predict_tst))"
   ]
  },
  {
   "cell_type": "code",
   "execution_count": 211,
   "metadata": {},
   "outputs": [
    {
     "data": {
      "text/plain": [
       "(0.9136196180642574, 0.8124421831637373)"
      ]
     },
     "execution_count": 211,
     "metadata": {},
     "output_type": "execute_result"
    }
   ],
   "source": [
    "score_gbc1 = roc_auc_score(y_train, y_predict)\n",
    "score_gbc2 = roc_auc_score(y_test, y_predict_tst)\n",
    "score_gbc1, score_gbc2"
   ]
  },
  {
   "cell_type": "code",
   "execution_count": 208,
   "metadata": {},
   "outputs": [
    {
     "name": "stdout",
     "output_type": "stream",
     "text": [
      "Accuracy of testing data:  0.911504424778761\n",
      "Accuracy of testing data:  0.8207885304659498\n"
     ]
    },
    {
     "data": {
      "text/plain": [
       "(array([[239,  45],\n",
       "        [  5, 276]], dtype=int64),\n",
       " array([[ 94,  44],\n",
       "        [  6, 135]], dtype=int64))"
      ]
     },
     "execution_count": 208,
     "metadata": {},
     "output_type": "execute_result"
    }
   ],
   "source": [
    "print('Accuracy of testing data: ',accuracy_score(y_train, y_predict))\n",
    "print('Accuracy of testing data: ',accuracy_score(y_test, y_predict_tst))\n",
    "confusion_matrix(y_train, y_predict),   confusion_matrix(y_test,y_predict_tst)"
   ]
  },
  {
   "cell_type": "markdown",
   "metadata": {},
   "source": [
    "#### 4. Extra Tree Classifier"
   ]
  },
  {
   "cell_type": "code",
   "execution_count": 213,
   "metadata": {},
   "outputs": [
    {
     "data": {
      "text/plain": [
       "GridSearchCV(estimator=ExtraTreesClassifier(random_state=101),\n",
       "             param_grid=[{'class_weight': ['balanced', 'balanced_subsample'],\n",
       "                          'criterion': ['entropy', 'gini'],\n",
       "                          'max_depth': [3, 5, 7, 9, 11],\n",
       "                          'max_features': ['sqrt', 'log2'],\n",
       "                          'min_samples_split': [5, 10, 20, 50, 75, 100],\n",
       "                          'random_state': [40, 100, 150]}])"
      ]
     },
     "execution_count": 213,
     "metadata": {},
     "output_type": "execute_result"
    }
   ],
   "source": [
    "\n",
    "n_trees = [50,100,150,200,500]\n",
    "max_depth = [3,5,7,9,11]\n",
    "min_split = [5,10,20,50,75,100]\n",
    "fea=['sqrt','log2']\n",
    "\n",
    "params = [{'criterion':['entropy','gini'],'max_depth':max_depth,'min_samples_split':min_split,'max_features':fea,\n",
    "        'class_weight': ['balanced', 'balanced_subsample'], 'random_state':[40,100,150] }]\n",
    "model_et = ExtraTreesClassifier(random_state=100)\n",
    "grid_et = GridSearchCV(model_et,params)\n",
    "grid_et.fit(x_train, y_train)"
   ]
  },
  {
   "cell_type": "code",
   "execution_count": 214,
   "metadata": {},
   "outputs": [
    {
     "data": {
      "text/plain": [
       "(0.8460176991150442,\n",
       " {'class_weight': 'balanced',\n",
       "  'criterion': 'entropy',\n",
       "  'max_depth': 11,\n",
       "  'max_features': 'sqrt',\n",
       "  'min_samples_split': 5,\n",
       "  'random_state': 100})"
      ]
     },
     "execution_count": 214,
     "metadata": {},
     "output_type": "execute_result"
    }
   ],
   "source": [
    "grid_et.best_score_,    grid_et.best_params_"
   ]
  },
  {
   "cell_type": "code",
   "execution_count": 186,
   "metadata": {},
   "outputs": [
    {
     "name": "stdout",
     "output_type": "stream",
     "text": [
      "Training score: 0.8530701754385965\n",
      "Testing_score: 0.8350529100529099\n"
     ]
    }
   ],
   "source": [
    "model_et = ExtraTreesClassifier(class_weight='balanced',criterion= 'entropy',max_depth= 11,\n",
    "                 max_features= 'sqrt',min_samples_split= 5,random_state= 100)\n",
    "model_et = model_et.fit(x_train, y_train)\n",
    "print('Training score:', cross_val_score(model_et, x_train, y_train, cv=kfold).mean())\n",
    "print('Testing_score:', cross_val_score(model_et, x_test, y_test, cv=kfold).mean())"
   ]
  },
  {
   "cell_type": "code",
   "execution_count": 198,
   "metadata": {},
   "outputs": [
    {
     "name": "stdout",
     "output_type": "stream",
     "text": [
      "              precision    recall  f1-score   support\n",
      "\n",
      "           0       1.00      0.85      0.91       284\n",
      "           1       0.86      1.00      0.93       281\n",
      "\n",
      "    accuracy                           0.92       565\n",
      "   macro avg       0.93      0.92      0.92       565\n",
      "weighted avg       0.93      0.92      0.92       565\n",
      "\n",
      "              precision    recall  f1-score   support\n",
      "\n",
      "           0       0.94      0.68      0.79       138\n",
      "           1       0.75      0.96      0.84       141\n",
      "\n",
      "    accuracy                           0.82       279\n",
      "   macro avg       0.85      0.82      0.82       279\n",
      "weighted avg       0.85      0.82      0.82       279\n",
      "\n"
     ]
    }
   ],
   "source": [
    "y_pred = model_et.predict(x_train)\n",
    "y_pre_tst = model_et.predict(x_test)\n",
    "print(classification_report(y_train, y_pred))\n",
    "print(classification_report(y_test, y_pre_tst))"
   ]
  },
  {
   "cell_type": "code",
   "execution_count": 199,
   "metadata": {},
   "outputs": [
    {
     "data": {
      "text/plain": [
       "(0.9207558518370006, 0.8193031144002467)"
      ]
     },
     "execution_count": 199,
     "metadata": {},
     "output_type": "execute_result"
    }
   ],
   "source": [
    "score_et1 = roc_auc_score(y_train, y_pred)\n",
    "score_et2 = roc_auc_score(y_test, y_pre_tst)\n",
    "score_et1, score_et2"
   ]
  },
  {
   "cell_type": "code",
   "execution_count": 190,
   "metadata": {},
   "outputs": [
    {
     "name": "stdout",
     "output_type": "stream",
     "text": [
      "Accuracy of training data: 0.9203539823008849\n",
      "Accuracy of testing data:  0.8207885304659498\n"
     ]
    },
    {
     "data": {
      "text/plain": [
       "(array([[240,  44],\n",
       "        [  1, 280]], dtype=int64),\n",
       " array([[ 94,  44],\n",
       "        [  6, 135]], dtype=int64))"
      ]
     },
     "execution_count": 190,
     "metadata": {},
     "output_type": "execute_result"
    }
   ],
   "source": [
    "print('Accuracy of training data:', accuracy_score(y_train, y_pred))\n",
    "print('Accuracy of testing data: ',accuracy_score(y_test, y_pre_tst))\n",
    "confusion_matrix(y_train, y_pred),   confusion_matrix(y_test,y_pre_tst)"
   ]
  },
  {
   "cell_type": "markdown",
   "metadata": {},
   "source": [
    "## Gaussian Naive Bayes Method"
   ]
  },
  {
   "cell_type": "code",
   "execution_count": 191,
   "metadata": {},
   "outputs": [
    {
     "name": "stdout",
     "output_type": "stream",
     "text": [
      "0.7644423558897244 0.7492063492063492\n"
     ]
    }
   ],
   "source": [
    "kfold = KFold(n_splits=10)\n",
    "model_NB = GaussianNB()\n",
    "model_NB = model_NB.fit(x_train, y_train)\n",
    "\n",
    "results = cross_val_score(model_NB, x_train, y_train, cv=kfold)\n",
    "rslts = cross_val_score(model_NB, x_test, y_test, cv = kfold)\n",
    "print(results.mean(), rslts.mean())"
   ]
  },
  {
   "cell_type": "code",
   "execution_count": 192,
   "metadata": {},
   "outputs": [
    {
     "name": "stdout",
     "output_type": "stream",
     "text": [
      "              precision    recall  f1-score   support\n",
      "\n",
      "           0       0.97      0.55      0.70       284\n",
      "           1       0.68      0.99      0.81       281\n",
      "\n",
      "    accuracy                           0.76       565\n",
      "   macro avg       0.83      0.77      0.75       565\n",
      "weighted avg       0.83      0.76      0.75       565\n",
      "\n",
      "              precision    recall  f1-score   support\n",
      "\n",
      "           0       0.96      0.52      0.68       138\n",
      "           1       0.68      0.98      0.80       141\n",
      "\n",
      "    accuracy                           0.75       279\n",
      "   macro avg       0.82      0.75      0.74       279\n",
      "weighted avg       0.82      0.75      0.74       279\n",
      "\n"
     ]
    }
   ],
   "source": [
    "y_tn = model_NB.predict(x_train)\n",
    "y_tst = model_NB.predict(x_test)\n",
    "print(classification_report(y_train, y_tn))\n",
    "print(classification_report(y_test, y_tst))"
   ]
  },
  {
   "cell_type": "code",
   "execution_count": 193,
   "metadata": {},
   "outputs": [
    {
     "data": {
      "text/plain": [
       "(0.7657698862212421, 0.7502312673450509)"
      ]
     },
     "execution_count": 193,
     "metadata": {},
     "output_type": "execute_result"
    }
   ],
   "source": [
    "score_NB1 = roc_auc_score(y_train, y_tn)\n",
    "score_NB2 = roc_auc_score(y_test, y_tst)\n",
    "score_NB1, score_NB2"
   ]
  },
  {
   "cell_type": "code",
   "execution_count": 127,
   "metadata": {},
   "outputs": [
    {
     "name": "stdout",
     "output_type": "stream",
     "text": [
      "Accuracy of training data: 0.7646017699115044\n",
      "Accuracy of testing data:  0.7526881720430108\n"
     ]
    },
    {
     "data": {
      "text/plain": [
       "(array([[155, 129],\n",
       "        [  4, 277]], dtype=int64),\n",
       " array([[ 72,  66],\n",
       "        [  3, 138]], dtype=int64))"
      ]
     },
     "execution_count": 127,
     "metadata": {},
     "output_type": "execute_result"
    }
   ],
   "source": [
    "print('Accuracy of training data:', accuracy_score(y_train, y_tn))\n",
    "print('Accuracy of testing data: ',accuracy_score(y_test, y_tst))\n",
    "confusion_matrix(y_train, y_tn),   confusion_matrix(y_test,y_tst)"
   ]
  },
  {
   "cell_type": "markdown",
   "metadata": {},
   "source": [
    "## Support Vector Classifier"
   ]
  },
  {
   "cell_type": "code",
   "execution_count": 255,
   "metadata": {},
   "outputs": [
    {
     "data": {
      "text/plain": [
       "dict_keys(['C', 'break_ties', 'cache_size', 'class_weight', 'coef0', 'decision_function_shape', 'degree', 'gamma', 'kernel', 'max_iter', 'probability', 'random_state', 'shrinking', 'tol', 'verbose'])"
      ]
     },
     "execution_count": 255,
     "metadata": {},
     "output_type": "execute_result"
    }
   ],
   "source": [
    "model_svm.get_params().keys()"
   ]
  },
  {
   "cell_type": "code",
   "execution_count": 140,
   "metadata": {},
   "outputs": [
    {
     "data": {
      "text/plain": [
       "GridSearchCV(estimator=SVC(), n_jobs=4,\n",
       "             param_grid=[{'C': [1, 1.5, 3, 5, 7, 10],\n",
       "                          'decision_function_shape': ['ovo', 'ovr'],\n",
       "                          'gamma': ['scale', 'auto'], 'kernel': ['rbf']}])"
      ]
     },
     "execution_count": 140,
     "metadata": {},
     "output_type": "execute_result"
    }
   ],
   "source": [
    "\n",
    "kfold = KFold(n_splits=10)\n",
    "C = [1,1.5,3,5,7,10]\n",
    "\n",
    "gamma=['scale', 'auto']\n",
    "\n",
    "params = [{'C':C, 'kernel':['rbf'], 'gamma':gamma,'decision_function_shape':['ovo', 'ovr']}]\n",
    "\n",
    "model_svm = SVC()\n",
    "grid_svm = GridSearchCV(model_svm, params, n_jobs = 4)\n",
    "grid_svm.fit(x_train.values, y_train)\n"
   ]
  },
  {
   "cell_type": "code",
   "execution_count": 141,
   "metadata": {},
   "outputs": [
    {
     "data": {
      "text/plain": [
       "(0.6247787610619469,\n",
       " {'C': 1.5,\n",
       "  'decision_function_shape': 'ovo',\n",
       "  'gamma': 'auto',\n",
       "  'kernel': 'rbf'})"
      ]
     },
     "execution_count": 141,
     "metadata": {},
     "output_type": "execute_result"
    }
   ],
   "source": [
    "grid_svm.best_score_,    grid_svm.best_params_"
   ]
  },
  {
   "cell_type": "code",
   "execution_count": 145,
   "metadata": {},
   "outputs": [
    {
     "name": "stdout",
     "output_type": "stream",
     "text": [
      "0.6354010025062657 0.5880952380952381\n"
     ]
    }
   ],
   "source": [
    "model = SVC(C= 1.5,decision_function_shape= 'ovo',gamma= 'auto',kernel= 'rbf')\n",
    "model_svc = model.fit(x_train,y_train)\n",
    "\n",
    "results = cross_val_score(model_svc, x_train, y_train, cv=kfold)\n",
    "rslts = cross_val_score(model_svc, x_test, y_test, cv = kfold)\n",
    "print(results.mean(), rslts.mean())"
   ]
  },
  {
   "cell_type": "code",
   "execution_count": 146,
   "metadata": {},
   "outputs": [
    {
     "name": "stdout",
     "output_type": "stream",
     "text": [
      "              precision    recall  f1-score   support\n",
      "\n",
      "           0       1.00      1.00      1.00       284\n",
      "           1       1.00      1.00      1.00       281\n",
      "\n",
      "    accuracy                           1.00       565\n",
      "   macro avg       1.00      1.00      1.00       565\n",
      "weighted avg       1.00      1.00      1.00       565\n",
      "\n",
      "              precision    recall  f1-score   support\n",
      "\n",
      "           0       0.94      0.34      0.50       138\n",
      "           1       0.60      0.98      0.75       141\n",
      "\n",
      "    accuracy                           0.66       279\n",
      "   macro avg       0.77      0.66      0.62       279\n",
      "weighted avg       0.77      0.66      0.62       279\n",
      "\n"
     ]
    }
   ],
   "source": [
    "y_pred_svc = model_svc.predict(x_train)\n",
    "y_tst_svc = model_svc.predict(x_test)\n",
    "print(classification_report(y_train, y_pred_svc))\n",
    "print(classification_report(y_test, y_tst_svc))"
   ]
  },
  {
   "cell_type": "code",
   "execution_count": 194,
   "metadata": {},
   "outputs": [
    {
     "data": {
      "text/plain": [
       "(1.0, 0.6596515572001234)"
      ]
     },
     "execution_count": 194,
     "metadata": {},
     "output_type": "execute_result"
    }
   ],
   "source": [
    "score_svm1 = roc_auc_score(y_train, y_pred_svc)\n",
    "score_svm2 = roc_auc_score(y_test, y_tst_svc)\n",
    "score_svm1, score_svm2"
   ]
  },
  {
   "cell_type": "code",
   "execution_count": 149,
   "metadata": {},
   "outputs": [
    {
     "name": "stdout",
     "output_type": "stream",
     "text": [
      "Accuracy of training data: 1.0\n",
      "Accuracy of testing data:  0.6630824372759857\n"
     ]
    },
    {
     "data": {
      "text/plain": [
       "(array([[284,   0],\n",
       "        [  0, 281]], dtype=int64),\n",
       " array([[ 47,  91],\n",
       "        [  3, 138]], dtype=int64))"
      ]
     },
     "execution_count": 149,
     "metadata": {},
     "output_type": "execute_result"
    }
   ],
   "source": [
    "print('Accuracy of training data:', accuracy_score(y_train, y_pred_svc))\n",
    "print('Accuracy of testing data: ',accuracy_score(y_test, y_tst_svc))\n",
    "confusion_matrix(y_train, y_pred_svc),   confusion_matrix(y_test,y_tst_svc)"
   ]
  },
  {
   "cell_type": "markdown",
   "metadata": {},
   "source": [
    "## XGBM Method"
   ]
  },
  {
   "cell_type": "code",
   "execution_count": 289,
   "metadata": {},
   "outputs": [
    {
     "name": "stdout",
     "output_type": "stream",
     "text": [
      "[12:52:47] WARNING: C:/Users/Administrator/workspace/xgboost-win64_release_1.4.0/src/learner.cc:1095: Starting in XGBoost 1.3.0, the default evaluation metric used with the objective 'binary:logistic' was changed from 'error' to 'logloss'. Explicitly set eval_metric if you'd like to restore the old behavior.\n"
     ]
    },
    {
     "data": {
      "text/plain": [
       "GridSearchCV(cv=KFold(n_splits=10, random_state=None, shuffle=False),\n",
       "             estimator=XGBClassifier(base_score=None, booster=None,\n",
       "                                     colsample_bylevel=None,\n",
       "                                     colsample_bynode=None,\n",
       "                                     colsample_bytree=None, gamma=None,\n",
       "                                     gpu_id=None, importance_type='gain',\n",
       "                                     interaction_constraints=None,\n",
       "                                     learning_rate=None, max_delta_step=None,\n",
       "                                     max_depth=None, min_child_weight=None,\n",
       "                                     missing=nan,...,\n",
       "                                     n_estimators=100, n_jobs=None,\n",
       "                                     num_parallel_tree=None, random_state=None,\n",
       "                                     reg_alpha=None, reg_lambda=None,\n",
       "                                     scale_pos_weight=None, subsample=None,\n",
       "                                     tree_method=None, validate_parameters=None,\n",
       "                                     verbosity=None),\n",
       "             n_jobs=4,\n",
       "             param_grid={'gamma': [0.1, 0.5, 1],\n",
       "                         'learning_rate': [0.01, 0.1, 1],\n",
       "                         'max_depth': [1, 2, 3, 5],\n",
       "                         'min_child_weight': [1, 3, 5, 7, 9],\n",
       "                         'n_estimators': [100, 250, 500]})"
      ]
     },
     "execution_count": 289,
     "metadata": {},
     "output_type": "execute_result"
    }
   ],
   "source": [
    "### Using GridSearchCV to tune the parameters\n",
    "\n",
    "\n",
    "params= {'max_depth': [1, 2,3,5],'learning_rate': [0.01,0.1,1], \n",
    "         'n_estimators': [100,250,500], 'gamma': [0.1, 0.5,1],\n",
    "         'min_child_weight' : [1,3,5,7,9]}\n",
    "\n",
    "xgb_clf = XGBClassifier(objective='binary:logistic')\n",
    "grid_xgb = GridSearchCV(xgb_clf, params,  cv=kfold, n_jobs=4)\n",
    "grid_xgb.fit(x_train, y_train)"
   ]
  },
  {
   "cell_type": "code",
   "execution_count": 290,
   "metadata": {},
   "outputs": [
    {
     "data": {
      "text/plain": [
       "XGBClassifier(base_score=0.5, booster='gbtree', colsample_bylevel=1,\n",
       "              colsample_bynode=1, colsample_bytree=1, gamma=0.5, gpu_id=-1,\n",
       "              importance_type='gain', interaction_constraints='',\n",
       "              learning_rate=1, max_delta_step=0, max_depth=1,\n",
       "              min_child_weight=9, missing=nan, monotone_constraints='()',\n",
       "              n_estimators=100, n_jobs=4, num_parallel_tree=1, random_state=0,\n",
       "              reg_alpha=0, reg_lambda=1, scale_pos_weight=1, subsample=1,\n",
       "              tree_method='exact', validate_parameters=1, verbosity=None)"
      ]
     },
     "execution_count": 290,
     "metadata": {},
     "output_type": "execute_result"
    }
   ],
   "source": [
    "grid_xgb.best_estimator_"
   ]
  },
  {
   "cell_type": "code",
   "execution_count": 292,
   "metadata": {},
   "outputs": [
    {
     "data": {
      "text/plain": [
       "(0.8530388471177945,\n",
       " {'gamma': 0.5,\n",
       "  'learning_rate': 1,\n",
       "  'max_depth': 1,\n",
       "  'min_child_weight': 9,\n",
       "  'n_estimators': 100})"
      ]
     },
     "execution_count": 292,
     "metadata": {},
     "output_type": "execute_result"
    }
   ],
   "source": [
    "grid_xgb.best_score_,    grid_xgb.best_params_"
   ]
  },
  {
   "cell_type": "code",
   "execution_count": 151,
   "metadata": {},
   "outputs": [
    {
     "name": "stdout",
     "output_type": "stream",
     "text": [
      "[20:46:02] WARNING: C:/Users/Administrator/workspace/xgboost-win64_release_1.4.0/src/learner.cc:1095: Starting in XGBoost 1.3.0, the default evaluation metric used with the objective 'binary:logistic' was changed from 'error' to 'logloss'. Explicitly set eval_metric if you'd like to restore the old behavior.\n",
      "[20:46:02] WARNING: C:/Users/Administrator/workspace/xgboost-win64_release_1.4.0/src/learner.cc:1095: Starting in XGBoost 1.3.0, the default evaluation metric used with the objective 'binary:logistic' was changed from 'error' to 'logloss'. Explicitly set eval_metric if you'd like to restore the old behavior.\n",
      "[20:46:02] WARNING: C:/Users/Administrator/workspace/xgboost-win64_release_1.4.0/src/learner.cc:1095: Starting in XGBoost 1.3.0, the default evaluation metric used with the objective 'binary:logistic' was changed from 'error' to 'logloss'. Explicitly set eval_metric if you'd like to restore the old behavior.\n",
      "[20:46:02] WARNING: C:/Users/Administrator/workspace/xgboost-win64_release_1.4.0/src/learner.cc:1095: Starting in XGBoost 1.3.0, the default evaluation metric used with the objective 'binary:logistic' was changed from 'error' to 'logloss'. Explicitly set eval_metric if you'd like to restore the old behavior.\n",
      "[20:46:02] WARNING: C:/Users/Administrator/workspace/xgboost-win64_release_1.4.0/src/learner.cc:1095: Starting in XGBoost 1.3.0, the default evaluation metric used with the objective 'binary:logistic' was changed from 'error' to 'logloss'. Explicitly set eval_metric if you'd like to restore the old behavior.\n",
      "[20:46:02] WARNING: C:/Users/Administrator/workspace/xgboost-win64_release_1.4.0/src/learner.cc:1095: Starting in XGBoost 1.3.0, the default evaluation metric used with the objective 'binary:logistic' was changed from 'error' to 'logloss'. Explicitly set eval_metric if you'd like to restore the old behavior.\n",
      "[20:46:03] WARNING: C:/Users/Administrator/workspace/xgboost-win64_release_1.4.0/src/learner.cc:1095: Starting in XGBoost 1.3.0, the default evaluation metric used with the objective 'binary:logistic' was changed from 'error' to 'logloss'. Explicitly set eval_metric if you'd like to restore the old behavior.\n",
      "[20:46:03] WARNING: C:/Users/Administrator/workspace/xgboost-win64_release_1.4.0/src/learner.cc:1095: Starting in XGBoost 1.3.0, the default evaluation metric used with the objective 'binary:logistic' was changed from 'error' to 'logloss'. Explicitly set eval_metric if you'd like to restore the old behavior.\n",
      "[20:46:03] WARNING: C:/Users/Administrator/workspace/xgboost-win64_release_1.4.0/src/learner.cc:1095: Starting in XGBoost 1.3.0, the default evaluation metric used with the objective 'binary:logistic' was changed from 'error' to 'logloss'. Explicitly set eval_metric if you'd like to restore the old behavior.\n",
      "[20:46:03] WARNING: C:/Users/Administrator/workspace/xgboost-win64_release_1.4.0/src/learner.cc:1095: Starting in XGBoost 1.3.0, the default evaluation metric used with the objective 'binary:logistic' was changed from 'error' to 'logloss'. Explicitly set eval_metric if you'd like to restore the old behavior.\n",
      "[20:46:03] WARNING: C:/Users/Administrator/workspace/xgboost-win64_release_1.4.0/src/learner.cc:1095: Starting in XGBoost 1.3.0, the default evaluation metric used with the objective 'binary:logistic' was changed from 'error' to 'logloss'. Explicitly set eval_metric if you'd like to restore the old behavior.\n",
      "[20:46:03] WARNING: C:/Users/Administrator/workspace/xgboost-win64_release_1.4.0/src/learner.cc:1095: Starting in XGBoost 1.3.0, the default evaluation metric used with the objective 'binary:logistic' was changed from 'error' to 'logloss'. Explicitly set eval_metric if you'd like to restore the old behavior.\n",
      "[20:46:03] WARNING: C:/Users/Administrator/workspace/xgboost-win64_release_1.4.0/src/learner.cc:1095: Starting in XGBoost 1.3.0, the default evaluation metric used with the objective 'binary:logistic' was changed from 'error' to 'logloss'. Explicitly set eval_metric if you'd like to restore the old behavior.\n",
      "[20:46:03] WARNING: C:/Users/Administrator/workspace/xgboost-win64_release_1.4.0/src/learner.cc:1095: Starting in XGBoost 1.3.0, the default evaluation metric used with the objective 'binary:logistic' was changed from 'error' to 'logloss'. Explicitly set eval_metric if you'd like to restore the old behavior.\n",
      "[20:46:03] WARNING: C:/Users/Administrator/workspace/xgboost-win64_release_1.4.0/src/learner.cc:1095: Starting in XGBoost 1.3.0, the default evaluation metric used with the objective 'binary:logistic' was changed from 'error' to 'logloss'. Explicitly set eval_metric if you'd like to restore the old behavior.\n",
      "[20:46:03] WARNING: C:/Users/Administrator/workspace/xgboost-win64_release_1.4.0/src/learner.cc:1095: Starting in XGBoost 1.3.0, the default evaluation metric used with the objective 'binary:logistic' was changed from 'error' to 'logloss'. Explicitly set eval_metric if you'd like to restore the old behavior.\n",
      "[20:46:04] WARNING: C:/Users/Administrator/workspace/xgboost-win64_release_1.4.0/src/learner.cc:1095: Starting in XGBoost 1.3.0, the default evaluation metric used with the objective 'binary:logistic' was changed from 'error' to 'logloss'. Explicitly set eval_metric if you'd like to restore the old behavior.\n",
      "[20:46:04] WARNING: C:/Users/Administrator/workspace/xgboost-win64_release_1.4.0/src/learner.cc:1095: Starting in XGBoost 1.3.0, the default evaluation metric used with the objective 'binary:logistic' was changed from 'error' to 'logloss'. Explicitly set eval_metric if you'd like to restore the old behavior.\n",
      "[20:46:04] WARNING: C:/Users/Administrator/workspace/xgboost-win64_release_1.4.0/src/learner.cc:1095: Starting in XGBoost 1.3.0, the default evaluation metric used with the objective 'binary:logistic' was changed from 'error' to 'logloss'. Explicitly set eval_metric if you'd like to restore the old behavior.\n",
      "[20:46:04] WARNING: C:/Users/Administrator/workspace/xgboost-win64_release_1.4.0/src/learner.cc:1095: Starting in XGBoost 1.3.0, the default evaluation metric used with the objective 'binary:logistic' was changed from 'error' to 'logloss'. Explicitly set eval_metric if you'd like to restore the old behavior.\n",
      "[20:46:04] WARNING: C:/Users/Administrator/workspace/xgboost-win64_release_1.4.0/src/learner.cc:1095: Starting in XGBoost 1.3.0, the default evaluation metric used with the objective 'binary:logistic' was changed from 'error' to 'logloss'. Explicitly set eval_metric if you'd like to restore the old behavior.\n",
      "0.8388157894736843 0.7813492063492063\n"
     ]
    }
   ],
   "source": [
    "\n",
    "\n",
    "xgb_clf = XGBClassifier(base_score=0.5, booster='gbtree', colsample_bylevel=1,\n",
    "              colsample_bynode=1, colsample_bytree=1, gamma=0.5, gpu_id=-1,\n",
    "              importance_type='gain', interaction_constraints='',\n",
    "              learning_rate=1, max_delta_step=0, max_depth=1,\n",
    "              min_child_weight=9, monotone_constraints='()',\n",
    "              n_estimators=100, n_jobs=4, num_parallel_tree=1, random_state=40,\n",
    "              reg_alpha=0, reg_lambda=1, scale_pos_weight=1, subsample=1,\n",
    "              tree_method='exact', validate_parameters=1, verbosity=None)\n",
    "\n",
    "model_xgb = xgb_clf.fit(x_train, y_train)\n",
    "\n",
    "score_tr = cross_val_score(model_xgb, x_train, y_train,cv=kfold)\n",
    "score_tst = cross_val_score(model_xgb, x_test, y_test, cv = kfold)\n",
    "print(score_tr.mean(),  score_tst.mean())"
   ]
  },
  {
   "cell_type": "code",
   "execution_count": 153,
   "metadata": {},
   "outputs": [
    {
     "name": "stdout",
     "output_type": "stream",
     "text": [
      "              precision    recall  f1-score   support\n",
      "\n",
      "           0       0.97      0.79      0.87       284\n",
      "           1       0.82      0.98      0.89       281\n",
      "\n",
      "    accuracy                           0.88       565\n",
      "   macro avg       0.90      0.88      0.88       565\n",
      "weighted avg       0.90      0.88      0.88       565\n",
      "\n",
      "              precision    recall  f1-score   support\n",
      "\n",
      "           0       0.92      0.71      0.80       138\n",
      "           1       0.77      0.94      0.84       141\n",
      "\n",
      "    accuracy                           0.82       279\n",
      "   macro avg       0.84      0.82      0.82       279\n",
      "weighted avg       0.84      0.82      0.82       279\n",
      "\n"
     ]
    }
   ],
   "source": [
    "y_pred_xgb = model_xgb.predict(x_train)\n",
    "y_tst_xgb = model_xgb.predict(x_test)\n",
    "print(classification_report(y_train, y_pred_xgb))\n",
    "print(classification_report(y_test, y_tst_xgb))"
   ]
  },
  {
   "cell_type": "code",
   "execution_count": 195,
   "metadata": {},
   "outputs": [
    {
     "data": {
      "text/plain": [
       "(0.8819106811688637, 0.8231575701510947)"
      ]
     },
     "execution_count": 195,
     "metadata": {},
     "output_type": "execute_result"
    }
   ],
   "source": [
    "score_xgb1 = roc_auc_score(y_train, y_pred_xgb)\n",
    "score_xgb2 = roc_auc_score(y_test, y_tst_xgb)\n",
    "score_xgb1, score_xgb2"
   ]
  },
  {
   "cell_type": "code",
   "execution_count": 155,
   "metadata": {},
   "outputs": [
    {
     "name": "stdout",
     "output_type": "stream",
     "text": [
      "Accuracy of training data: 0.8814159292035398\n",
      "Accuracy of testing data:  0.8243727598566308\n"
     ]
    },
    {
     "data": {
      "text/plain": [
       "(array([[224,  60],\n",
       "        [  7, 274]], dtype=int64),\n",
       " array([[ 98,  40],\n",
       "        [  9, 132]], dtype=int64))"
      ]
     },
     "execution_count": 155,
     "metadata": {},
     "output_type": "execute_result"
    }
   ],
   "source": [
    "print('Accuracy of training data:', accuracy_score(y_train, y_pred_xgb))\n",
    "print('Accuracy of testing data: ',accuracy_score(y_test, y_tst_xgb))\n",
    "confusion_matrix(y_train, y_pred_xgb),   confusion_matrix(y_test,y_tst_xgb)"
   ]
  },
  {
   "cell_type": "code",
   "execution_count": 228,
   "metadata": {},
   "outputs": [
    {
     "data": {
      "text/html": [
       "<div>\n",
       "<style scoped>\n",
       "    .dataframe tbody tr th:only-of-type {\n",
       "        vertical-align: middle;\n",
       "    }\n",
       "\n",
       "    .dataframe tbody tr th {\n",
       "        vertical-align: top;\n",
       "    }\n",
       "\n",
       "    .dataframe thead th {\n",
       "        text-align: right;\n",
       "    }\n",
       "</style>\n",
       "<table border=\"1\" class=\"dataframe\">\n",
       "  <thead>\n",
       "    <tr style=\"text-align: right;\">\n",
       "      <th></th>\n",
       "      <th>Gender</th>\n",
       "      <th>Married</th>\n",
       "      <th>Dependents</th>\n",
       "      <th>Education</th>\n",
       "      <th>Self_Employed</th>\n",
       "      <th>Loan_Amount_Term</th>\n",
       "      <th>Credit_History</th>\n",
       "      <th>Property_Area</th>\n",
       "      <th>Loanamt_log</th>\n",
       "      <th>Loanamt_install_log</th>\n",
       "      <th>totalincome_log</th>\n",
       "    </tr>\n",
       "  </thead>\n",
       "  <tbody>\n",
       "    <tr>\n",
       "      <th>0</th>\n",
       "      <td>0.477025</td>\n",
       "      <td>0.739433</td>\n",
       "      <td>-0.744752</td>\n",
       "      <td>0.534250</td>\n",
       "      <td>-0.371363</td>\n",
       "      <td>0.27039</td>\n",
       "      <td>0.421296</td>\n",
       "      <td>1.181817</td>\n",
       "      <td>316.0</td>\n",
       "      <td>72.0</td>\n",
       "      <td>0.090621</td>\n",
       "    </tr>\n",
       "    <tr>\n",
       "      <th>1</th>\n",
       "      <td>0.477025</td>\n",
       "      <td>0.739433</td>\n",
       "      <td>0.225503</td>\n",
       "      <td>0.534250</td>\n",
       "      <td>-0.371363</td>\n",
       "      <td>0.27039</td>\n",
       "      <td>0.421296</td>\n",
       "      <td>1.181817</td>\n",
       "      <td>270.0</td>\n",
       "      <td>221.0</td>\n",
       "      <td>7.313641</td>\n",
       "    </tr>\n",
       "    <tr>\n",
       "      <th>2</th>\n",
       "      <td>0.477025</td>\n",
       "      <td>0.739433</td>\n",
       "      <td>1.195757</td>\n",
       "      <td>0.534250</td>\n",
       "      <td>-0.371363</td>\n",
       "      <td>0.27039</td>\n",
       "      <td>0.421296</td>\n",
       "      <td>1.181817</td>\n",
       "      <td>23.0</td>\n",
       "      <td>548.0</td>\n",
       "      <td>7.496080</td>\n",
       "    </tr>\n",
       "    <tr>\n",
       "      <th>3</th>\n",
       "      <td>0.477025</td>\n",
       "      <td>0.739433</td>\n",
       "      <td>1.195757</td>\n",
       "      <td>0.534250</td>\n",
       "      <td>-0.371363</td>\n",
       "      <td>0.27039</td>\n",
       "      <td>0.421296</td>\n",
       "      <td>1.181817</td>\n",
       "      <td>535.0</td>\n",
       "      <td>218.0</td>\n",
       "      <td>7.842476</td>\n",
       "    </tr>\n",
       "    <tr>\n",
       "      <th>4</th>\n",
       "      <td>0.477025</td>\n",
       "      <td>-1.351010</td>\n",
       "      <td>-0.744752</td>\n",
       "      <td>-1.869875</td>\n",
       "      <td>-0.371363</td>\n",
       "      <td>0.27039</td>\n",
       "      <td>0.421296</td>\n",
       "      <td>1.181817</td>\n",
       "      <td>457.0</td>\n",
       "      <td>160.0</td>\n",
       "      <td>-0.406895</td>\n",
       "    </tr>\n",
       "  </tbody>\n",
       "</table>\n",
       "</div>"
      ],
      "text/plain": [
       "     Gender   Married  Dependents  Education  Self_Employed  Loan_Amount_Term  \\\n",
       "0  0.477025  0.739433   -0.744752   0.534250      -0.371363           0.27039   \n",
       "1  0.477025  0.739433    0.225503   0.534250      -0.371363           0.27039   \n",
       "2  0.477025  0.739433    1.195757   0.534250      -0.371363           0.27039   \n",
       "3  0.477025  0.739433    1.195757   0.534250      -0.371363           0.27039   \n",
       "4  0.477025 -1.351010   -0.744752  -1.869875      -0.371363           0.27039   \n",
       "\n",
       "   Credit_History  Property_Area  Loanamt_log  Loanamt_install_log  \\\n",
       "0        0.421296       1.181817        316.0                 72.0   \n",
       "1        0.421296       1.181817        270.0                221.0   \n",
       "2        0.421296       1.181817         23.0                548.0   \n",
       "3        0.421296       1.181817        535.0                218.0   \n",
       "4        0.421296       1.181817        457.0                160.0   \n",
       "\n",
       "   totalincome_log  \n",
       "0         0.090621  \n",
       "1         7.313641  \n",
       "2         7.496080  \n",
       "3         7.842476  \n",
       "4        -0.406895  "
      ]
     },
     "execution_count": 228,
     "metadata": {},
     "output_type": "execute_result"
    }
   ],
   "source": [
    "test.head()"
   ]
  },
  {
   "cell_type": "code",
   "execution_count": 292,
   "metadata": {},
   "outputs": [
    {
     "data": {
      "text/html": [
       "<div>\n",
       "<style scoped>\n",
       "    .dataframe tbody tr th:only-of-type {\n",
       "        vertical-align: middle;\n",
       "    }\n",
       "\n",
       "    .dataframe tbody tr th {\n",
       "        vertical-align: top;\n",
       "    }\n",
       "\n",
       "    .dataframe thead th {\n",
       "        text-align: right;\n",
       "    }\n",
       "</style>\n",
       "<table border=\"1\" class=\"dataframe\">\n",
       "  <thead>\n",
       "    <tr style=\"text-align: right;\">\n",
       "      <th></th>\n",
       "      <th>Loan_ID</th>\n",
       "      <th>Loan_Status</th>\n",
       "    </tr>\n",
       "  </thead>\n",
       "  <tbody>\n",
       "    <tr>\n",
       "      <th>0</th>\n",
       "      <td>LP001015</td>\n",
       "      <td>Y</td>\n",
       "    </tr>\n",
       "    <tr>\n",
       "      <th>1</th>\n",
       "      <td>LP001022</td>\n",
       "      <td>Y</td>\n",
       "    </tr>\n",
       "    <tr>\n",
       "      <th>2</th>\n",
       "      <td>LP001031</td>\n",
       "      <td>Y</td>\n",
       "    </tr>\n",
       "    <tr>\n",
       "      <th>3</th>\n",
       "      <td>LP001035</td>\n",
       "      <td>Y</td>\n",
       "    </tr>\n",
       "    <tr>\n",
       "      <th>4</th>\n",
       "      <td>LP001051</td>\n",
       "      <td>Y</td>\n",
       "    </tr>\n",
       "    <tr>\n",
       "      <th>...</th>\n",
       "      <td>...</td>\n",
       "      <td>...</td>\n",
       "    </tr>\n",
       "    <tr>\n",
       "      <th>362</th>\n",
       "      <td>LP002971</td>\n",
       "      <td>Y</td>\n",
       "    </tr>\n",
       "    <tr>\n",
       "      <th>363</th>\n",
       "      <td>LP002975</td>\n",
       "      <td>Y</td>\n",
       "    </tr>\n",
       "    <tr>\n",
       "      <th>364</th>\n",
       "      <td>LP002980</td>\n",
       "      <td>Y</td>\n",
       "    </tr>\n",
       "    <tr>\n",
       "      <th>365</th>\n",
       "      <td>LP002986</td>\n",
       "      <td>Y</td>\n",
       "    </tr>\n",
       "    <tr>\n",
       "      <th>366</th>\n",
       "      <td>LP002989</td>\n",
       "      <td>Y</td>\n",
       "    </tr>\n",
       "  </tbody>\n",
       "</table>\n",
       "<p>367 rows × 2 columns</p>\n",
       "</div>"
      ],
      "text/plain": [
       "      Loan_ID Loan_Status\n",
       "0    LP001015           Y\n",
       "1    LP001022           Y\n",
       "2    LP001031           Y\n",
       "3    LP001035           Y\n",
       "4    LP001051           Y\n",
       "..        ...         ...\n",
       "362  LP002971           Y\n",
       "363  LP002975           Y\n",
       "364  LP002980           Y\n",
       "365  LP002986           Y\n",
       "366  LP002989           Y\n",
       "\n",
       "[367 rows x 2 columns]"
      ]
     },
     "execution_count": 292,
     "metadata": {},
     "output_type": "execute_result"
    }
   ],
   "source": [
    "final_model_df = pd.DataFrame(test_data.Loan_ID)\n",
    "final_model_df['Loan_Status'] = pd.DataFrame({'Loan_Status': final_model})\n",
    "final_model_df['Loan_Status']  = final_model_df.Loan_Status.map({1:'Y', 0:'N' })\n",
    "final_model_df"
   ]
  },
  {
   "cell_type": "code",
   "execution_count": 288,
   "metadata": {},
   "outputs": [
    {
     "data": {
      "text/plain": [
       "array([1, 1, 1, 1, 1, 1, 1, 0, 1, 1, 1, 1, 1, 0, 1, 1, 1, 1, 1, 1, 1, 1,\n",
       "       1, 1, 1, 0, 1, 1, 1, 1, 1, 1, 1, 1, 1, 0, 1, 1, 1, 1, 1, 1, 1, 1,\n",
       "       1, 1, 1, 1, 1, 1, 1, 1, 1, 1, 0, 0, 1, 1, 0, 1, 1, 1, 1, 0, 1, 1,\n",
       "       0, 0, 1, 0, 1, 1, 1, 1, 1, 1, 1, 1, 1, 1, 0, 1, 0, 1, 0, 1, 1, 1,\n",
       "       1, 1, 1, 1, 1, 1, 0, 1, 1, 1, 1, 1, 1, 0, 1, 0, 1, 1, 0, 1, 1, 1,\n",
       "       1, 1, 1, 1, 1, 1, 1, 0, 0, 0, 1, 1, 1, 0, 0, 1, 0, 1, 1, 1, 1, 1,\n",
       "       1, 1, 1, 1, 1, 1, 1, 1, 0, 1, 0, 1, 1, 1, 1, 0, 1, 1, 1, 1, 1, 0,\n",
       "       1, 1, 1, 1, 1, 1, 1, 0, 1, 1, 0, 0, 0, 1, 0, 1, 1, 0, 1, 0, 0, 1,\n",
       "       1, 1, 1, 1, 1, 1, 1, 1, 1, 1, 1, 1, 1, 1, 1, 1, 0, 0, 1, 1, 0, 1,\n",
       "       0, 1, 1, 1, 1, 1, 1, 1, 1, 1, 1, 0, 1, 0, 1, 1, 1, 1, 1, 1, 1, 1,\n",
       "       1, 1, 0, 0, 0, 1, 1, 1, 1, 0, 1, 1, 1, 1, 1, 0, 0, 1, 1, 0, 1, 0,\n",
       "       1, 0, 1, 0, 1, 1, 1, 1, 0, 1, 1, 1, 1, 0, 1, 1, 1, 1, 1, 1, 1, 1,\n",
       "       1, 1, 0, 1, 0, 1, 1, 1, 1, 0, 0, 1, 1, 1, 0, 1, 1, 1, 1, 1, 1, 1,\n",
       "       1, 1, 1, 1, 1, 1, 1, 0, 1, 1, 1, 1, 1, 1, 1, 0, 1, 1, 1, 1, 1, 1,\n",
       "       1, 1, 1, 0, 1, 1, 1, 1, 1, 0, 1, 1, 1, 1, 1, 1, 1, 0, 1, 1, 1, 1,\n",
       "       1, 1, 1, 1, 1, 1, 1, 1, 1, 0, 1, 1, 0, 1, 1, 1, 0, 0, 1, 1, 1, 1,\n",
       "       1, 1, 0, 1, 1, 1, 1, 1, 1, 1, 1, 1, 1, 1, 1])"
      ]
     },
     "execution_count": 288,
     "metadata": {},
     "output_type": "execute_result"
    }
   ],
   "source": [
    "final_model = model_et.predict(test)\n"
   ]
  },
  {
   "cell_type": "code",
   "execution_count": 293,
   "metadata": {},
   "outputs": [
    {
     "data": {
      "text/plain": [
       "Y    0.811989\n",
       "N    0.188011\n",
       "Name: Loan_Status, dtype: float64"
      ]
     },
     "execution_count": 293,
     "metadata": {},
     "output_type": "execute_result"
    }
   ],
   "source": [
    "final_model_df.Loan_Status.value_counts(normalize = True)"
   ]
  },
  {
   "cell_type": "code",
   "execution_count": 294,
   "metadata": {},
   "outputs": [],
   "source": [
    "final_model_df.to_csv('Loan_prediction.csv', index=False)"
   ]
  }
 ],
 "metadata": {
  "kernelspec": {
   "display_name": "Python 3",
   "language": "python",
   "name": "python3"
  },
  "language_info": {
   "codemirror_mode": {
    "name": "ipython",
    "version": 3
   },
   "file_extension": ".py",
   "mimetype": "text/x-python",
   "name": "python",
   "nbconvert_exporter": "python",
   "pygments_lexer": "ipython3",
   "version": "3.8.5"
  }
 },
 "nbformat": 4,
 "nbformat_minor": 4
}
